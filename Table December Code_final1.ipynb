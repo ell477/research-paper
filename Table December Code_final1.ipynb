{
 "cells": [
  {
   "cell_type": "code",
   "execution_count": 1,
   "id": "f31a3b0d",
   "metadata": {},
   "outputs": [],
   "source": [
    "import sklearn\n",
    "import statsmodels.api as sm\n",
    "\n",
    "#%conda install matploblib -y\n",
    "#%conda install seaborn -y\n",
    "#%pip install gdown\n",
    "#%matplotlib inline\n",
    "\n",
    "import matplotlib.pyplot as plt\n",
    "import gdown\n",
    "import pandas as pd\n",
    "import numpy as np\n",
    "import seaborn as sns\n",
    "\n",
    "from scipy import stats"
   ]
  },
  {
   "cell_type": "code",
   "execution_count": 2,
   "id": "a4d215d0",
   "metadata": {
    "scrolled": true
   },
   "outputs": [
    {
     "name": "stderr",
     "output_type": "stream",
     "text": [
      "C:\\Users\\Jun\\AppData\\Local\\Temp\\ipykernel_20420\\147230392.py:1: DtypeWarning: Columns (0,1) have mixed types. Specify dtype option on import or set low_memory=False.\n",
      "  df = pd.read_csv('38502-0001-Data.tsv', sep = '\\t')\n"
     ]
    },
    {
     "data": {
      "text/html": [
       "<div>\n",
       "<style scoped>\n",
       "    .dataframe tbody tr th:only-of-type {\n",
       "        vertical-align: middle;\n",
       "    }\n",
       "\n",
       "    .dataframe tbody tr th {\n",
       "        vertical-align: top;\n",
       "    }\n",
       "\n",
       "    .dataframe thead th {\n",
       "        text-align: right;\n",
       "    }\n",
       "</style>\n",
       "<table border=\"1\" class=\"dataframe\">\n",
       "  <thead>\n",
       "    <tr style=\"text-align: right;\">\n",
       "      <th></th>\n",
       "      <th>AI_08</th>\n",
       "      <th>AI_10</th>\n",
       "      <th>V1</th>\n",
       "      <th>V3</th>\n",
       "      <th>V5</th>\n",
       "      <th>V501</th>\n",
       "      <th>V507</th>\n",
       "      <th>V508</th>\n",
       "      <th>V509</th>\n",
       "      <th>SURVEY_VERSION</th>\n",
       "      <th>...</th>\n",
       "      <th>V7099D</th>\n",
       "      <th>V7133D</th>\n",
       "      <th>V7134D</th>\n",
       "      <th>V7135D</th>\n",
       "      <th>V7142D</th>\n",
       "      <th>V7143D</th>\n",
       "      <th>V7144D</th>\n",
       "      <th>V7139D</th>\n",
       "      <th>V7140D</th>\n",
       "      <th>V7141D</th>\n",
       "    </tr>\n",
       "  </thead>\n",
       "  <tbody>\n",
       "    <tr>\n",
       "      <th>0</th>\n",
       "      <td>10001</td>\n",
       "      <td></td>\n",
       "      <td>2021</td>\n",
       "      <td>1</td>\n",
       "      <td>1.144673</td>\n",
       "      <td>8</td>\n",
       "      <td>3</td>\n",
       "      <td>0</td>\n",
       "      <td>1</td>\n",
       "      <td>3</td>\n",
       "      <td>...</td>\n",
       "      <td>-9</td>\n",
       "      <td>-9</td>\n",
       "      <td>-9</td>\n",
       "      <td>-9</td>\n",
       "      <td>-8</td>\n",
       "      <td>-8</td>\n",
       "      <td>-8</td>\n",
       "      <td>-8</td>\n",
       "      <td>-8</td>\n",
       "      <td>-8</td>\n",
       "    </tr>\n",
       "    <tr>\n",
       "      <th>1</th>\n",
       "      <td>10002</td>\n",
       "      <td></td>\n",
       "      <td>2021</td>\n",
       "      <td>1</td>\n",
       "      <td>0.676939</td>\n",
       "      <td>8</td>\n",
       "      <td>2</td>\n",
       "      <td>1</td>\n",
       "      <td>1</td>\n",
       "      <td>4</td>\n",
       "      <td>...</td>\n",
       "      <td>-9</td>\n",
       "      <td>-9</td>\n",
       "      <td>-9</td>\n",
       "      <td>-9</td>\n",
       "      <td>-8</td>\n",
       "      <td>-8</td>\n",
       "      <td>-8</td>\n",
       "      <td>-8</td>\n",
       "      <td>-8</td>\n",
       "      <td>-8</td>\n",
       "    </tr>\n",
       "    <tr>\n",
       "      <th>2</th>\n",
       "      <td>10003</td>\n",
       "      <td></td>\n",
       "      <td>2021</td>\n",
       "      <td>1</td>\n",
       "      <td>0.606877</td>\n",
       "      <td>8</td>\n",
       "      <td>1</td>\n",
       "      <td>0</td>\n",
       "      <td>0</td>\n",
       "      <td>3</td>\n",
       "      <td>...</td>\n",
       "      <td>-9</td>\n",
       "      <td>-9</td>\n",
       "      <td>-9</td>\n",
       "      <td>-9</td>\n",
       "      <td>-8</td>\n",
       "      <td>-8</td>\n",
       "      <td>-8</td>\n",
       "      <td>-8</td>\n",
       "      <td>-8</td>\n",
       "      <td>-8</td>\n",
       "    </tr>\n",
       "    <tr>\n",
       "      <th>3</th>\n",
       "      <td>10004</td>\n",
       "      <td></td>\n",
       "      <td>2021</td>\n",
       "      <td>1</td>\n",
       "      <td>0.601276</td>\n",
       "      <td>8</td>\n",
       "      <td>1</td>\n",
       "      <td>0</td>\n",
       "      <td>0</td>\n",
       "      <td>3</td>\n",
       "      <td>...</td>\n",
       "      <td>-9</td>\n",
       "      <td>-9</td>\n",
       "      <td>-9</td>\n",
       "      <td>-9</td>\n",
       "      <td>-8</td>\n",
       "      <td>-8</td>\n",
       "      <td>-8</td>\n",
       "      <td>-8</td>\n",
       "      <td>-8</td>\n",
       "      <td>-8</td>\n",
       "    </tr>\n",
       "    <tr>\n",
       "      <th>4</th>\n",
       "      <td>10005</td>\n",
       "      <td></td>\n",
       "      <td>2021</td>\n",
       "      <td>1</td>\n",
       "      <td>1.004319</td>\n",
       "      <td>8</td>\n",
       "      <td>3</td>\n",
       "      <td>0</td>\n",
       "      <td>1</td>\n",
       "      <td>3</td>\n",
       "      <td>...</td>\n",
       "      <td>-9</td>\n",
       "      <td>-9</td>\n",
       "      <td>-9</td>\n",
       "      <td>-9</td>\n",
       "      <td>-8</td>\n",
       "      <td>-8</td>\n",
       "      <td>-8</td>\n",
       "      <td>-8</td>\n",
       "      <td>-8</td>\n",
       "      <td>-8</td>\n",
       "    </tr>\n",
       "    <tr>\n",
       "      <th>...</th>\n",
       "      <td>...</td>\n",
       "      <td>...</td>\n",
       "      <td>...</td>\n",
       "      <td>...</td>\n",
       "      <td>...</td>\n",
       "      <td>...</td>\n",
       "      <td>...</td>\n",
       "      <td>...</td>\n",
       "      <td>...</td>\n",
       "      <td>...</td>\n",
       "      <td>...</td>\n",
       "      <td>...</td>\n",
       "      <td>...</td>\n",
       "      <td>...</td>\n",
       "      <td>...</td>\n",
       "      <td>...</td>\n",
       "      <td>...</td>\n",
       "      <td>...</td>\n",
       "      <td>...</td>\n",
       "      <td>...</td>\n",
       "      <td>...</td>\n",
       "    </tr>\n",
       "    <tr>\n",
       "      <th>23233</th>\n",
       "      <td></td>\n",
       "      <td>51788</td>\n",
       "      <td>2021</td>\n",
       "      <td>4</td>\n",
       "      <td>0.651717</td>\n",
       "      <td>10</td>\n",
       "      <td>2</td>\n",
       "      <td>1</td>\n",
       "      <td>1</td>\n",
       "      <td>3</td>\n",
       "      <td>...</td>\n",
       "      <td>0</td>\n",
       "      <td>0</td>\n",
       "      <td>0</td>\n",
       "      <td>0</td>\n",
       "      <td>0</td>\n",
       "      <td>0</td>\n",
       "      <td>0</td>\n",
       "      <td>0</td>\n",
       "      <td>0</td>\n",
       "      <td>0</td>\n",
       "    </tr>\n",
       "    <tr>\n",
       "      <th>23234</th>\n",
       "      <td></td>\n",
       "      <td>51789</td>\n",
       "      <td>2021</td>\n",
       "      <td>4</td>\n",
       "      <td>0.672390</td>\n",
       "      <td>10</td>\n",
       "      <td>3</td>\n",
       "      <td>0</td>\n",
       "      <td>0</td>\n",
       "      <td>3</td>\n",
       "      <td>...</td>\n",
       "      <td>0</td>\n",
       "      <td>0</td>\n",
       "      <td>0</td>\n",
       "      <td>0</td>\n",
       "      <td>0</td>\n",
       "      <td>0</td>\n",
       "      <td>0</td>\n",
       "      <td>0</td>\n",
       "      <td>0</td>\n",
       "      <td>0</td>\n",
       "    </tr>\n",
       "    <tr>\n",
       "      <th>23235</th>\n",
       "      <td></td>\n",
       "      <td>51790</td>\n",
       "      <td>2021</td>\n",
       "      <td>4</td>\n",
       "      <td>1.451628</td>\n",
       "      <td>10</td>\n",
       "      <td>4</td>\n",
       "      <td>1</td>\n",
       "      <td>1</td>\n",
       "      <td>4</td>\n",
       "      <td>...</td>\n",
       "      <td>0</td>\n",
       "      <td>0</td>\n",
       "      <td>0</td>\n",
       "      <td>0</td>\n",
       "      <td>0</td>\n",
       "      <td>0</td>\n",
       "      <td>0</td>\n",
       "      <td>0</td>\n",
       "      <td>0</td>\n",
       "      <td>0</td>\n",
       "    </tr>\n",
       "    <tr>\n",
       "      <th>23236</th>\n",
       "      <td></td>\n",
       "      <td>51791</td>\n",
       "      <td>2021</td>\n",
       "      <td>4</td>\n",
       "      <td>1.966627</td>\n",
       "      <td>10</td>\n",
       "      <td>2</td>\n",
       "      <td>0</td>\n",
       "      <td>1</td>\n",
       "      <td>4</td>\n",
       "      <td>...</td>\n",
       "      <td>0</td>\n",
       "      <td>0</td>\n",
       "      <td>0</td>\n",
       "      <td>0</td>\n",
       "      <td>0</td>\n",
       "      <td>0</td>\n",
       "      <td>0</td>\n",
       "      <td>0</td>\n",
       "      <td>0</td>\n",
       "      <td>0</td>\n",
       "    </tr>\n",
       "    <tr>\n",
       "      <th>23237</th>\n",
       "      <td></td>\n",
       "      <td>51792</td>\n",
       "      <td>2021</td>\n",
       "      <td>4</td>\n",
       "      <td>0.510518</td>\n",
       "      <td>10</td>\n",
       "      <td>3</td>\n",
       "      <td>0</td>\n",
       "      <td>1</td>\n",
       "      <td>3</td>\n",
       "      <td>...</td>\n",
       "      <td>0</td>\n",
       "      <td>0</td>\n",
       "      <td>0</td>\n",
       "      <td>0</td>\n",
       "      <td>0</td>\n",
       "      <td>0</td>\n",
       "      <td>0</td>\n",
       "      <td>0</td>\n",
       "      <td>0</td>\n",
       "      <td>0</td>\n",
       "    </tr>\n",
       "  </tbody>\n",
       "</table>\n",
       "<p>23238 rows × 695 columns</p>\n",
       "</div>"
      ],
      "text/plain": [
       "       AI_08  AI_10    V1  V3        V5  V501  V507  V508  V509   \n",
       "0      10001         2021   1  1.144673     8     3     0     1  \\\n",
       "1      10002         2021   1  0.676939     8     2     1     1   \n",
       "2      10003         2021   1  0.606877     8     1     0     0   \n",
       "3      10004         2021   1  0.601276     8     1     0     0   \n",
       "4      10005         2021   1  1.004319     8     3     0     1   \n",
       "...      ...    ...   ...  ..       ...   ...   ...   ...   ...   \n",
       "23233         51788  2021   4  0.651717    10     2     1     1   \n",
       "23234         51789  2021   4  0.672390    10     3     0     0   \n",
       "23235         51790  2021   4  1.451628    10     4     1     1   \n",
       "23236         51791  2021   4  1.966627    10     2     0     1   \n",
       "23237         51792  2021   4  0.510518    10     3     0     1   \n",
       "\n",
       "       SURVEY_VERSION  ...  V7099D  V7133D  V7134D  V7135D  V7142D  V7143D   \n",
       "0                   3  ...      -9      -9      -9      -9      -8      -8  \\\n",
       "1                   4  ...      -9      -9      -9      -9      -8      -8   \n",
       "2                   3  ...      -9      -9      -9      -9      -8      -8   \n",
       "3                   3  ...      -9      -9      -9      -9      -8      -8   \n",
       "4                   3  ...      -9      -9      -9      -9      -8      -8   \n",
       "...               ...  ...     ...     ...     ...     ...     ...     ...   \n",
       "23233               3  ...       0       0       0       0       0       0   \n",
       "23234               3  ...       0       0       0       0       0       0   \n",
       "23235               4  ...       0       0       0       0       0       0   \n",
       "23236               4  ...       0       0       0       0       0       0   \n",
       "23237               3  ...       0       0       0       0       0       0   \n",
       "\n",
       "       V7144D  V7139D  V7140D  V7141D  \n",
       "0          -8      -8      -8      -8  \n",
       "1          -8      -8      -8      -8  \n",
       "2          -8      -8      -8      -8  \n",
       "3          -8      -8      -8      -8  \n",
       "4          -8      -8      -8      -8  \n",
       "...       ...     ...     ...     ...  \n",
       "23233       0       0       0       0  \n",
       "23234       0       0       0       0  \n",
       "23235       0       0       0       0  \n",
       "23236       0       0       0       0  \n",
       "23237       0       0       0       0  \n",
       "\n",
       "[23238 rows x 695 columns]"
      ]
     },
     "execution_count": 2,
     "metadata": {},
     "output_type": "execute_result"
    }
   ],
   "source": [
    "df = pd.read_csv('38502-0001-Data.tsv', sep = '\\t')\n",
    "df"
   ]
  },
  {
   "cell_type": "code",
   "execution_count": 3,
   "id": "9a32f9cb",
   "metadata": {},
   "outputs": [],
   "source": [
    "df.to_csv('./38502-0001-Data.csv')"
   ]
  },
  {
   "cell_type": "code",
   "execution_count": 4,
   "id": "184a448d",
   "metadata": {},
   "outputs": [
    {
     "name": "stderr",
     "output_type": "stream",
     "text": [
      "C:\\Users\\Jun\\AppData\\Local\\Temp\\ipykernel_20420\\3114305776.py:1: DtypeWarning: Columns (1,2) have mixed types. Specify dtype option on import or set low_memory=False.\n",
      "  df0 = pd.read_csv('./38502-0001-Data.csv')\n"
     ]
    },
    {
     "data": {
      "text/html": [
       "<div>\n",
       "<style scoped>\n",
       "    .dataframe tbody tr th:only-of-type {\n",
       "        vertical-align: middle;\n",
       "    }\n",
       "\n",
       "    .dataframe tbody tr th {\n",
       "        vertical-align: top;\n",
       "    }\n",
       "\n",
       "    .dataframe thead th {\n",
       "        text-align: right;\n",
       "    }\n",
       "</style>\n",
       "<table border=\"1\" class=\"dataframe\">\n",
       "  <thead>\n",
       "    <tr style=\"text-align: right;\">\n",
       "      <th></th>\n",
       "      <th>AI_08</th>\n",
       "      <th>AI_10</th>\n",
       "      <th>V1</th>\n",
       "      <th>V3</th>\n",
       "      <th>V5</th>\n",
       "      <th>V501</th>\n",
       "      <th>V507</th>\n",
       "      <th>V508</th>\n",
       "      <th>V509</th>\n",
       "      <th>SURVEY_VERSION</th>\n",
       "      <th>...</th>\n",
       "      <th>V7099D</th>\n",
       "      <th>V7133D</th>\n",
       "      <th>V7134D</th>\n",
       "      <th>V7135D</th>\n",
       "      <th>V7142D</th>\n",
       "      <th>V7143D</th>\n",
       "      <th>V7144D</th>\n",
       "      <th>V7139D</th>\n",
       "      <th>V7140D</th>\n",
       "      <th>V7141D</th>\n",
       "    </tr>\n",
       "  </thead>\n",
       "  <tbody>\n",
       "    <tr>\n",
       "      <th>0</th>\n",
       "      <td>10001</td>\n",
       "      <td></td>\n",
       "      <td>2021</td>\n",
       "      <td>1</td>\n",
       "      <td>1.144673</td>\n",
       "      <td>8</td>\n",
       "      <td>3</td>\n",
       "      <td>0</td>\n",
       "      <td>1</td>\n",
       "      <td>3</td>\n",
       "      <td>...</td>\n",
       "      <td>-9</td>\n",
       "      <td>-9</td>\n",
       "      <td>-9</td>\n",
       "      <td>-9</td>\n",
       "      <td>-8</td>\n",
       "      <td>-8</td>\n",
       "      <td>-8</td>\n",
       "      <td>-8</td>\n",
       "      <td>-8</td>\n",
       "      <td>-8</td>\n",
       "    </tr>\n",
       "    <tr>\n",
       "      <th>1</th>\n",
       "      <td>10002</td>\n",
       "      <td></td>\n",
       "      <td>2021</td>\n",
       "      <td>1</td>\n",
       "      <td>0.676939</td>\n",
       "      <td>8</td>\n",
       "      <td>2</td>\n",
       "      <td>1</td>\n",
       "      <td>1</td>\n",
       "      <td>4</td>\n",
       "      <td>...</td>\n",
       "      <td>-9</td>\n",
       "      <td>-9</td>\n",
       "      <td>-9</td>\n",
       "      <td>-9</td>\n",
       "      <td>-8</td>\n",
       "      <td>-8</td>\n",
       "      <td>-8</td>\n",
       "      <td>-8</td>\n",
       "      <td>-8</td>\n",
       "      <td>-8</td>\n",
       "    </tr>\n",
       "    <tr>\n",
       "      <th>2</th>\n",
       "      <td>10003</td>\n",
       "      <td></td>\n",
       "      <td>2021</td>\n",
       "      <td>1</td>\n",
       "      <td>0.606877</td>\n",
       "      <td>8</td>\n",
       "      <td>1</td>\n",
       "      <td>0</td>\n",
       "      <td>0</td>\n",
       "      <td>3</td>\n",
       "      <td>...</td>\n",
       "      <td>-9</td>\n",
       "      <td>-9</td>\n",
       "      <td>-9</td>\n",
       "      <td>-9</td>\n",
       "      <td>-8</td>\n",
       "      <td>-8</td>\n",
       "      <td>-8</td>\n",
       "      <td>-8</td>\n",
       "      <td>-8</td>\n",
       "      <td>-8</td>\n",
       "    </tr>\n",
       "    <tr>\n",
       "      <th>3</th>\n",
       "      <td>10004</td>\n",
       "      <td></td>\n",
       "      <td>2021</td>\n",
       "      <td>1</td>\n",
       "      <td>0.601276</td>\n",
       "      <td>8</td>\n",
       "      <td>1</td>\n",
       "      <td>0</td>\n",
       "      <td>0</td>\n",
       "      <td>3</td>\n",
       "      <td>...</td>\n",
       "      <td>-9</td>\n",
       "      <td>-9</td>\n",
       "      <td>-9</td>\n",
       "      <td>-9</td>\n",
       "      <td>-8</td>\n",
       "      <td>-8</td>\n",
       "      <td>-8</td>\n",
       "      <td>-8</td>\n",
       "      <td>-8</td>\n",
       "      <td>-8</td>\n",
       "    </tr>\n",
       "    <tr>\n",
       "      <th>4</th>\n",
       "      <td>10005</td>\n",
       "      <td></td>\n",
       "      <td>2021</td>\n",
       "      <td>1</td>\n",
       "      <td>1.004319</td>\n",
       "      <td>8</td>\n",
       "      <td>3</td>\n",
       "      <td>0</td>\n",
       "      <td>1</td>\n",
       "      <td>3</td>\n",
       "      <td>...</td>\n",
       "      <td>-9</td>\n",
       "      <td>-9</td>\n",
       "      <td>-9</td>\n",
       "      <td>-9</td>\n",
       "      <td>-8</td>\n",
       "      <td>-8</td>\n",
       "      <td>-8</td>\n",
       "      <td>-8</td>\n",
       "      <td>-8</td>\n",
       "      <td>-8</td>\n",
       "    </tr>\n",
       "    <tr>\n",
       "      <th>...</th>\n",
       "      <td>...</td>\n",
       "      <td>...</td>\n",
       "      <td>...</td>\n",
       "      <td>...</td>\n",
       "      <td>...</td>\n",
       "      <td>...</td>\n",
       "      <td>...</td>\n",
       "      <td>...</td>\n",
       "      <td>...</td>\n",
       "      <td>...</td>\n",
       "      <td>...</td>\n",
       "      <td>...</td>\n",
       "      <td>...</td>\n",
       "      <td>...</td>\n",
       "      <td>...</td>\n",
       "      <td>...</td>\n",
       "      <td>...</td>\n",
       "      <td>...</td>\n",
       "      <td>...</td>\n",
       "      <td>...</td>\n",
       "      <td>...</td>\n",
       "    </tr>\n",
       "    <tr>\n",
       "      <th>23233</th>\n",
       "      <td></td>\n",
       "      <td>51788</td>\n",
       "      <td>2021</td>\n",
       "      <td>4</td>\n",
       "      <td>0.651717</td>\n",
       "      <td>10</td>\n",
       "      <td>2</td>\n",
       "      <td>1</td>\n",
       "      <td>1</td>\n",
       "      <td>3</td>\n",
       "      <td>...</td>\n",
       "      <td>0</td>\n",
       "      <td>0</td>\n",
       "      <td>0</td>\n",
       "      <td>0</td>\n",
       "      <td>0</td>\n",
       "      <td>0</td>\n",
       "      <td>0</td>\n",
       "      <td>0</td>\n",
       "      <td>0</td>\n",
       "      <td>0</td>\n",
       "    </tr>\n",
       "    <tr>\n",
       "      <th>23234</th>\n",
       "      <td></td>\n",
       "      <td>51789</td>\n",
       "      <td>2021</td>\n",
       "      <td>4</td>\n",
       "      <td>0.672390</td>\n",
       "      <td>10</td>\n",
       "      <td>3</td>\n",
       "      <td>0</td>\n",
       "      <td>0</td>\n",
       "      <td>3</td>\n",
       "      <td>...</td>\n",
       "      <td>0</td>\n",
       "      <td>0</td>\n",
       "      <td>0</td>\n",
       "      <td>0</td>\n",
       "      <td>0</td>\n",
       "      <td>0</td>\n",
       "      <td>0</td>\n",
       "      <td>0</td>\n",
       "      <td>0</td>\n",
       "      <td>0</td>\n",
       "    </tr>\n",
       "    <tr>\n",
       "      <th>23235</th>\n",
       "      <td></td>\n",
       "      <td>51790</td>\n",
       "      <td>2021</td>\n",
       "      <td>4</td>\n",
       "      <td>1.451628</td>\n",
       "      <td>10</td>\n",
       "      <td>4</td>\n",
       "      <td>1</td>\n",
       "      <td>1</td>\n",
       "      <td>4</td>\n",
       "      <td>...</td>\n",
       "      <td>0</td>\n",
       "      <td>0</td>\n",
       "      <td>0</td>\n",
       "      <td>0</td>\n",
       "      <td>0</td>\n",
       "      <td>0</td>\n",
       "      <td>0</td>\n",
       "      <td>0</td>\n",
       "      <td>0</td>\n",
       "      <td>0</td>\n",
       "    </tr>\n",
       "    <tr>\n",
       "      <th>23236</th>\n",
       "      <td></td>\n",
       "      <td>51791</td>\n",
       "      <td>2021</td>\n",
       "      <td>4</td>\n",
       "      <td>1.966627</td>\n",
       "      <td>10</td>\n",
       "      <td>2</td>\n",
       "      <td>0</td>\n",
       "      <td>1</td>\n",
       "      <td>4</td>\n",
       "      <td>...</td>\n",
       "      <td>0</td>\n",
       "      <td>0</td>\n",
       "      <td>0</td>\n",
       "      <td>0</td>\n",
       "      <td>0</td>\n",
       "      <td>0</td>\n",
       "      <td>0</td>\n",
       "      <td>0</td>\n",
       "      <td>0</td>\n",
       "      <td>0</td>\n",
       "    </tr>\n",
       "    <tr>\n",
       "      <th>23237</th>\n",
       "      <td></td>\n",
       "      <td>51792</td>\n",
       "      <td>2021</td>\n",
       "      <td>4</td>\n",
       "      <td>0.510518</td>\n",
       "      <td>10</td>\n",
       "      <td>3</td>\n",
       "      <td>0</td>\n",
       "      <td>1</td>\n",
       "      <td>3</td>\n",
       "      <td>...</td>\n",
       "      <td>0</td>\n",
       "      <td>0</td>\n",
       "      <td>0</td>\n",
       "      <td>0</td>\n",
       "      <td>0</td>\n",
       "      <td>0</td>\n",
       "      <td>0</td>\n",
       "      <td>0</td>\n",
       "      <td>0</td>\n",
       "      <td>0</td>\n",
       "    </tr>\n",
       "  </tbody>\n",
       "</table>\n",
       "<p>23238 rows × 695 columns</p>\n",
       "</div>"
      ],
      "text/plain": [
       "       AI_08  AI_10    V1  V3        V5  V501  V507  V508  V509   \n",
       "0      10001         2021   1  1.144673     8     3     0     1  \\\n",
       "1      10002         2021   1  0.676939     8     2     1     1   \n",
       "2      10003         2021   1  0.606877     8     1     0     0   \n",
       "3      10004         2021   1  0.601276     8     1     0     0   \n",
       "4      10005         2021   1  1.004319     8     3     0     1   \n",
       "...      ...    ...   ...  ..       ...   ...   ...   ...   ...   \n",
       "23233         51788  2021   4  0.651717    10     2     1     1   \n",
       "23234         51789  2021   4  0.672390    10     3     0     0   \n",
       "23235         51790  2021   4  1.451628    10     4     1     1   \n",
       "23236         51791  2021   4  1.966627    10     2     0     1   \n",
       "23237         51792  2021   4  0.510518    10     3     0     1   \n",
       "\n",
       "       SURVEY_VERSION  ...  V7099D  V7133D  V7134D  V7135D  V7142D  V7143D   \n",
       "0                   3  ...      -9      -9      -9      -9      -8      -8  \\\n",
       "1                   4  ...      -9      -9      -9      -9      -8      -8   \n",
       "2                   3  ...      -9      -9      -9      -9      -8      -8   \n",
       "3                   3  ...      -9      -9      -9      -9      -8      -8   \n",
       "4                   3  ...      -9      -9      -9      -9      -8      -8   \n",
       "...               ...  ...     ...     ...     ...     ...     ...     ...   \n",
       "23233               3  ...       0       0       0       0       0       0   \n",
       "23234               3  ...       0       0       0       0       0       0   \n",
       "23235               4  ...       0       0       0       0       0       0   \n",
       "23236               4  ...       0       0       0       0       0       0   \n",
       "23237               3  ...       0       0       0       0       0       0   \n",
       "\n",
       "       V7144D  V7139D  V7140D  V7141D  \n",
       "0          -8      -8      -8      -8  \n",
       "1          -8      -8      -8      -8  \n",
       "2          -8      -8      -8      -8  \n",
       "3          -8      -8      -8      -8  \n",
       "4          -8      -8      -8      -8  \n",
       "...       ...     ...     ...     ...  \n",
       "23233       0       0       0       0  \n",
       "23234       0       0       0       0  \n",
       "23235       0       0       0       0  \n",
       "23236       0       0       0       0  \n",
       "23237       0       0       0       0  \n",
       "\n",
       "[23238 rows x 695 columns]"
      ]
     },
     "execution_count": 4,
     "metadata": {},
     "output_type": "execute_result"
    }
   ],
   "source": [
    "df0 = pd.read_csv('./38502-0001-Data.csv')\n",
    "\n",
    "df0 = df0.drop('Unnamed: 0', axis=1)\n",
    "df0"
   ]
  },
  {
   "cell_type": "code",
   "execution_count": 6,
   "id": "57fff057",
   "metadata": {},
   "outputs": [],
   "source": [
    "#DATA CLEANING PROCESS"
   ]
  },
  {
   "cell_type": "code",
   "execution_count": 6,
   "id": "92b32674",
   "metadata": {},
   "outputs": [],
   "source": [
    "df0['V7814'].value_counts()\n",
    "df2=df0"
   ]
  },
  {
   "cell_type": "code",
   "execution_count": 7,
   "id": "9b5e4854",
   "metadata": {},
   "outputs": [],
   "source": [
    "drop_temp = df0[df0['V7814'] == -8].index"
   ]
  },
  {
   "cell_type": "code",
   "execution_count": 8,
   "id": "f6b50c3e",
   "metadata": {},
   "outputs": [],
   "source": [
    "df2 = df0.drop(drop_temp)"
   ]
  },
  {
   "cell_type": "code",
   "execution_count": 9,
   "id": "cc5c9aca",
   "metadata": {},
   "outputs": [],
   "source": [
    "df3 = df2.drop(df2[df2['V7814'] == -9].index)"
   ]
  },
  {
   "cell_type": "code",
   "execution_count": 10,
   "id": "5fed2302",
   "metadata": {},
   "outputs": [],
   "source": [
    "df3['V7202'].value_counts()\n",
    "\n",
    "df4=df3"
   ]
  },
  {
   "cell_type": "code",
   "execution_count": 11,
   "id": "8358c26a",
   "metadata": {},
   "outputs": [],
   "source": [
    "drop_temp1 = df3[df3['V7202'] == -9].index"
   ]
  },
  {
   "cell_type": "code",
   "execution_count": 12,
   "id": "98c551fa",
   "metadata": {},
   "outputs": [],
   "source": [
    "df4 = df3.drop(drop_temp1)"
   ]
  },
  {
   "cell_type": "code",
   "execution_count": 13,
   "id": "75f0429e",
   "metadata": {},
   "outputs": [],
   "source": [
    "df5 = df4.drop(df4[df4['V7202'] == 3].index)"
   ]
  },
  {
   "cell_type": "code",
   "execution_count": 14,
   "id": "31168106",
   "metadata": {},
   "outputs": [],
   "source": [
    "df6 = df5.drop(df5[df5['V7234'] == -9].index)"
   ]
  },
  {
   "cell_type": "code",
   "execution_count": 15,
   "id": "515df21b",
   "metadata": {},
   "outputs": [],
   "source": [
    "df7 = df6.drop(df6[df6['V7254'] == -9].index)"
   ]
  },
  {
   "cell_type": "code",
   "execution_count": 16,
   "id": "dba7253e",
   "metadata": {},
   "outputs": [],
   "source": [
    "df8 = df7.drop(df7[df7['V7677'] == -9].index)"
   ]
  },
  {
   "cell_type": "code",
   "execution_count": 17,
   "id": "6a047620",
   "metadata": {},
   "outputs": [],
   "source": [
    "df9 = df8.drop(df8[df8['V7106'] == -9].index)"
   ]
  },
  {
   "cell_type": "code",
   "execution_count": 18,
   "id": "d8739962",
   "metadata": {},
   "outputs": [],
   "source": [
    "df10 = df9.drop(df9[df9['V7784'] == -9].index)"
   ]
  },
  {
   "cell_type": "code",
   "execution_count": 19,
   "id": "0c2cdc0e",
   "metadata": {},
   "outputs": [],
   "source": [
    "df11 = df10.drop(df10[df10['V7215'] == -9].index)"
   ]
  },
  {
   "cell_type": "code",
   "execution_count": 20,
   "id": "d3b22d76",
   "metadata": {},
   "outputs": [],
   "source": [
    "df12 = df11.drop(df11[df11['V7216'] == -9].index)"
   ]
  },
  {
   "cell_type": "code",
   "execution_count": 21,
   "id": "f8f199c4",
   "metadata": {},
   "outputs": [],
   "source": [
    "df13 = df12.drop(df12[df12['V1070'] == -9].index)"
   ]
  },
  {
   "cell_type": "code",
   "execution_count": 22,
   "id": "c2b623ff",
   "metadata": {},
   "outputs": [],
   "source": [
    "df13 = df13.drop(df13[df13['V7685'] == -9].index)"
   ]
  },
  {
   "cell_type": "code",
   "execution_count": 24,
   "id": "3badfd59",
   "metadata": {},
   "outputs": [],
   "source": [
    "df13['fatheredu']=0\n",
    "df13['motheredu']=0\n",
    "df13['fentanyl']=0\n",
    "df13['alcohol']=0\n",
    "df13['socialuse']=0\n",
    "df13['socialnews']=0\n",
    "df13['parentedu']=0\n",
    "df13['parenttalk']=0"
   ]
  },
  {
   "cell_type": "code",
   "execution_count": 25,
   "id": "6d034863",
   "metadata": {
    "scrolled": true
   },
   "outputs": [],
   "source": [
    "df13.loc[df13['V7215']==4,'fatheredu']=1\n",
    "df13.loc[df13['V7215']==5,'fatheredu']=1\n",
    "df13.loc[df13['V7215']==6,'fatheredu']=1\n",
    "\n",
    "df13.loc[df13['V7215']==7,'fatheredu']=2\n",
    "\n",
    "df13.loc[df13['V7216']==4,'motheredu']=1\n",
    "df13.loc[df13['V7216']==5,'motheredu']=1\n",
    "df13.loc[df13['V7216']==6,'motheredu']=1\n",
    "\n",
    "df13.loc[df13['V7216']==7,'motheredu']=2\n",
    "\n",
    "df13.loc[df13['V7814']==2,'fentanyl']=1\n",
    "df13.loc[df13['V7814']==3,'fentanyl']=1\n",
    "df13.loc[df13['V7814']==4,'fentanyl']=1\n",
    "df13.loc[df13['V7814']==5,'fentanyl']=1\n",
    "df13.loc[df13['V7814']==6,'fentanyl']=1\n",
    "df13.loc[df13['V7814']==7,'fentanyl']=1"
   ]
  },
  {
   "cell_type": "code",
   "execution_count": 26,
   "id": "de502858",
   "metadata": {
    "scrolled": false
   },
   "outputs": [
    {
     "data": {
      "text/html": [
       "<div>\n",
       "<style scoped>\n",
       "    .dataframe tbody tr th:only-of-type {\n",
       "        vertical-align: middle;\n",
       "    }\n",
       "\n",
       "    .dataframe tbody tr th {\n",
       "        vertical-align: top;\n",
       "    }\n",
       "\n",
       "    .dataframe thead th {\n",
       "        text-align: right;\n",
       "    }\n",
       "</style>\n",
       "<table border=\"1\" class=\"dataframe\">\n",
       "  <thead>\n",
       "    <tr style=\"text-align: right;\">\n",
       "      <th></th>\n",
       "      <th>AI_08</th>\n",
       "      <th>AI_10</th>\n",
       "      <th>V1</th>\n",
       "      <th>V3</th>\n",
       "      <th>V5</th>\n",
       "      <th>V501</th>\n",
       "      <th>V507</th>\n",
       "      <th>V508</th>\n",
       "      <th>V509</th>\n",
       "      <th>SURVEY_VERSION</th>\n",
       "      <th>...</th>\n",
       "      <th>V7140D</th>\n",
       "      <th>V7141D</th>\n",
       "      <th>fatheredu</th>\n",
       "      <th>motheredu</th>\n",
       "      <th>fentanyl</th>\n",
       "      <th>alcohol</th>\n",
       "      <th>socialuse</th>\n",
       "      <th>socialnews</th>\n",
       "      <th>parentedu</th>\n",
       "      <th>parenttalk</th>\n",
       "    </tr>\n",
       "  </thead>\n",
       "  <tbody>\n",
       "    <tr>\n",
       "      <th>8</th>\n",
       "      <td>10009</td>\n",
       "      <td></td>\n",
       "      <td>2021</td>\n",
       "      <td>1</td>\n",
       "      <td>0.689253</td>\n",
       "      <td>8</td>\n",
       "      <td>2</td>\n",
       "      <td>0</td>\n",
       "      <td>1</td>\n",
       "      <td>3</td>\n",
       "      <td>...</td>\n",
       "      <td>-8</td>\n",
       "      <td>-8</td>\n",
       "      <td>0</td>\n",
       "      <td>1</td>\n",
       "      <td>0</td>\n",
       "      <td>1</td>\n",
       "      <td>2</td>\n",
       "      <td>2</td>\n",
       "      <td>1</td>\n",
       "      <td>0</td>\n",
       "    </tr>\n",
       "    <tr>\n",
       "      <th>10</th>\n",
       "      <td>10011</td>\n",
       "      <td></td>\n",
       "      <td>2021</td>\n",
       "      <td>1</td>\n",
       "      <td>0.605433</td>\n",
       "      <td>8</td>\n",
       "      <td>1</td>\n",
       "      <td>0</td>\n",
       "      <td>0</td>\n",
       "      <td>3</td>\n",
       "      <td>...</td>\n",
       "      <td>-8</td>\n",
       "      <td>-8</td>\n",
       "      <td>2</td>\n",
       "      <td>2</td>\n",
       "      <td>0</td>\n",
       "      <td>0</td>\n",
       "      <td>1</td>\n",
       "      <td>2</td>\n",
       "      <td>0</td>\n",
       "      <td>1</td>\n",
       "    </tr>\n",
       "    <tr>\n",
       "      <th>43</th>\n",
       "      <td>10044</td>\n",
       "      <td></td>\n",
       "      <td>2021</td>\n",
       "      <td>1</td>\n",
       "      <td>0.984564</td>\n",
       "      <td>8</td>\n",
       "      <td>3</td>\n",
       "      <td>0</td>\n",
       "      <td>0</td>\n",
       "      <td>3</td>\n",
       "      <td>...</td>\n",
       "      <td>-8</td>\n",
       "      <td>-8</td>\n",
       "      <td>2</td>\n",
       "      <td>2</td>\n",
       "      <td>0</td>\n",
       "      <td>0</td>\n",
       "      <td>0</td>\n",
       "      <td>2</td>\n",
       "      <td>0</td>\n",
       "      <td>1</td>\n",
       "    </tr>\n",
       "    <tr>\n",
       "      <th>47</th>\n",
       "      <td>10048</td>\n",
       "      <td></td>\n",
       "      <td>2021</td>\n",
       "      <td>1</td>\n",
       "      <td>2.004854</td>\n",
       "      <td>8</td>\n",
       "      <td>1</td>\n",
       "      <td>0</td>\n",
       "      <td>1</td>\n",
       "      <td>4</td>\n",
       "      <td>...</td>\n",
       "      <td>-8</td>\n",
       "      <td>-8</td>\n",
       "      <td>2</td>\n",
       "      <td>1</td>\n",
       "      <td>0</td>\n",
       "      <td>0</td>\n",
       "      <td>1</td>\n",
       "      <td>2</td>\n",
       "      <td>1</td>\n",
       "      <td>1</td>\n",
       "    </tr>\n",
       "    <tr>\n",
       "      <th>49</th>\n",
       "      <td>10050</td>\n",
       "      <td></td>\n",
       "      <td>2021</td>\n",
       "      <td>1</td>\n",
       "      <td>0.485782</td>\n",
       "      <td>8</td>\n",
       "      <td>3</td>\n",
       "      <td>0</td>\n",
       "      <td>1</td>\n",
       "      <td>3</td>\n",
       "      <td>...</td>\n",
       "      <td>-8</td>\n",
       "      <td>-8</td>\n",
       "      <td>0</td>\n",
       "      <td>0</td>\n",
       "      <td>0</td>\n",
       "      <td>0</td>\n",
       "      <td>1</td>\n",
       "      <td>2</td>\n",
       "      <td>0</td>\n",
       "      <td>1</td>\n",
       "    </tr>\n",
       "    <tr>\n",
       "      <th>...</th>\n",
       "      <td>...</td>\n",
       "      <td>...</td>\n",
       "      <td>...</td>\n",
       "      <td>...</td>\n",
       "      <td>...</td>\n",
       "      <td>...</td>\n",
       "      <td>...</td>\n",
       "      <td>...</td>\n",
       "      <td>...</td>\n",
       "      <td>...</td>\n",
       "      <td>...</td>\n",
       "      <td>...</td>\n",
       "      <td>...</td>\n",
       "      <td>...</td>\n",
       "      <td>...</td>\n",
       "      <td>...</td>\n",
       "      <td>...</td>\n",
       "      <td>...</td>\n",
       "      <td>...</td>\n",
       "      <td>...</td>\n",
       "      <td>...</td>\n",
       "    </tr>\n",
       "    <tr>\n",
       "      <th>15275</th>\n",
       "      <td></td>\n",
       "      <td>13830</td>\n",
       "      <td>2021</td>\n",
       "      <td>1</td>\n",
       "      <td>0.316355</td>\n",
       "      <td>10</td>\n",
       "      <td>3</td>\n",
       "      <td>0</td>\n",
       "      <td>1</td>\n",
       "      <td>4</td>\n",
       "      <td>...</td>\n",
       "      <td>-8</td>\n",
       "      <td>-8</td>\n",
       "      <td>1</td>\n",
       "      <td>1</td>\n",
       "      <td>0</td>\n",
       "      <td>1</td>\n",
       "      <td>1</td>\n",
       "      <td>2</td>\n",
       "      <td>1</td>\n",
       "      <td>1</td>\n",
       "    </tr>\n",
       "    <tr>\n",
       "      <th>15277</th>\n",
       "      <td></td>\n",
       "      <td>13832</td>\n",
       "      <td>2021</td>\n",
       "      <td>1</td>\n",
       "      <td>1.514917</td>\n",
       "      <td>10</td>\n",
       "      <td>3</td>\n",
       "      <td>0</td>\n",
       "      <td>0</td>\n",
       "      <td>3</td>\n",
       "      <td>...</td>\n",
       "      <td>-8</td>\n",
       "      <td>-8</td>\n",
       "      <td>2</td>\n",
       "      <td>0</td>\n",
       "      <td>0</td>\n",
       "      <td>0</td>\n",
       "      <td>1</td>\n",
       "      <td>2</td>\n",
       "      <td>0</td>\n",
       "      <td>1</td>\n",
       "    </tr>\n",
       "    <tr>\n",
       "      <th>15278</th>\n",
       "      <td></td>\n",
       "      <td>13833</td>\n",
       "      <td>2021</td>\n",
       "      <td>1</td>\n",
       "      <td>0.592084</td>\n",
       "      <td>10</td>\n",
       "      <td>2</td>\n",
       "      <td>1</td>\n",
       "      <td>1</td>\n",
       "      <td>3</td>\n",
       "      <td>...</td>\n",
       "      <td>-8</td>\n",
       "      <td>-8</td>\n",
       "      <td>1</td>\n",
       "      <td>0</td>\n",
       "      <td>0</td>\n",
       "      <td>0</td>\n",
       "      <td>1</td>\n",
       "      <td>2</td>\n",
       "      <td>1</td>\n",
       "      <td>1</td>\n",
       "    </tr>\n",
       "    <tr>\n",
       "      <th>15283</th>\n",
       "      <td></td>\n",
       "      <td>13838</td>\n",
       "      <td>2021</td>\n",
       "      <td>1</td>\n",
       "      <td>0.473146</td>\n",
       "      <td>10</td>\n",
       "      <td>3</td>\n",
       "      <td>0</td>\n",
       "      <td>0</td>\n",
       "      <td>3</td>\n",
       "      <td>...</td>\n",
       "      <td>-8</td>\n",
       "      <td>-8</td>\n",
       "      <td>0</td>\n",
       "      <td>0</td>\n",
       "      <td>0</td>\n",
       "      <td>0</td>\n",
       "      <td>1</td>\n",
       "      <td>2</td>\n",
       "      <td>0</td>\n",
       "      <td>1</td>\n",
       "    </tr>\n",
       "    <tr>\n",
       "      <th>15286</th>\n",
       "      <td></td>\n",
       "      <td>13841</td>\n",
       "      <td>2021</td>\n",
       "      <td>1</td>\n",
       "      <td>1.457398</td>\n",
       "      <td>10</td>\n",
       "      <td>3</td>\n",
       "      <td>1</td>\n",
       "      <td>1</td>\n",
       "      <td>4</td>\n",
       "      <td>...</td>\n",
       "      <td>-8</td>\n",
       "      <td>-8</td>\n",
       "      <td>0</td>\n",
       "      <td>0</td>\n",
       "      <td>0</td>\n",
       "      <td>0</td>\n",
       "      <td>0</td>\n",
       "      <td>2</td>\n",
       "      <td>0</td>\n",
       "      <td>1</td>\n",
       "    </tr>\n",
       "  </tbody>\n",
       "</table>\n",
       "<p>3631 rows × 703 columns</p>\n",
       "</div>"
      ],
      "text/plain": [
       "       AI_08  AI_10    V1  V3        V5  V501  V507  V508  V509   \n",
       "8      10009         2021   1  0.689253     8     2     0     1  \\\n",
       "10     10011         2021   1  0.605433     8     1     0     0   \n",
       "43     10044         2021   1  0.984564     8     3     0     0   \n",
       "47     10048         2021   1  2.004854     8     1     0     1   \n",
       "49     10050         2021   1  0.485782     8     3     0     1   \n",
       "...      ...    ...   ...  ..       ...   ...   ...   ...   ...   \n",
       "15275         13830  2021   1  0.316355    10     3     0     1   \n",
       "15277         13832  2021   1  1.514917    10     3     0     0   \n",
       "15278         13833  2021   1  0.592084    10     2     1     1   \n",
       "15283         13838  2021   1  0.473146    10     3     0     0   \n",
       "15286         13841  2021   1  1.457398    10     3     1     1   \n",
       "\n",
       "       SURVEY_VERSION  ...  V7140D  V7141D  fatheredu  motheredu  fentanyl   \n",
       "8                   3  ...      -8      -8          0          1         0  \\\n",
       "10                  3  ...      -8      -8          2          2         0   \n",
       "43                  3  ...      -8      -8          2          2         0   \n",
       "47                  4  ...      -8      -8          2          1         0   \n",
       "49                  3  ...      -8      -8          0          0         0   \n",
       "...               ...  ...     ...     ...        ...        ...       ...   \n",
       "15275               4  ...      -8      -8          1          1         0   \n",
       "15277               3  ...      -8      -8          2          0         0   \n",
       "15278               3  ...      -8      -8          1          0         0   \n",
       "15283               3  ...      -8      -8          0          0         0   \n",
       "15286               4  ...      -8      -8          0          0         0   \n",
       "\n",
       "       alcohol  socialuse  socialnews  parentedu  parenttalk  \n",
       "8            1          2           2          1           0  \n",
       "10           0          1           2          0           1  \n",
       "43           0          0           2          0           1  \n",
       "47           0          1           2          1           1  \n",
       "49           0          1           2          0           1  \n",
       "...        ...        ...         ...        ...         ...  \n",
       "15275        1          1           2          1           1  \n",
       "15277        0          1           2          0           1  \n",
       "15278        0          1           2          1           1  \n",
       "15283        0          1           2          0           1  \n",
       "15286        0          0           2          0           1  \n",
       "\n",
       "[3631 rows x 703 columns]"
      ]
     },
     "execution_count": 26,
     "metadata": {},
     "output_type": "execute_result"
    }
   ],
   "source": [
    "df13.loc[df13['V7106']==2,'alcohol']=1\n",
    "df13.loc[df13['V7106']==3,'alcohol']=1\n",
    "\n",
    "df13.loc[df13['V7106']==4,'alcohol']=2\n",
    "df13.loc[df13['V7106']==5,'alcohol']=2\n",
    "df13.loc[df13['V7106']==6,'alcohol']=2\n",
    "df13.loc[df13['V7106']==7,'alcohol']=2\n",
    "\n",
    "\n",
    "df13.loc[df13['V7685']==2,'socialuse']=1\n",
    "df13.loc[df13['V7685']==3,'socialuse']=1\n",
    "df13.loc[df13['V7685']==4,'socialuse']=1\n",
    "\n",
    "df13.loc[df13['V7685']==5,'socialuse']=2\n",
    "df13.loc[df13['V7685']==6,'socialuse']=2\n",
    "df13.loc[df13['V7685']==7,'socialuse']=2\n",
    "\n",
    "\n",
    "df13.loc[df13['V7677']==2,'socialnews']=1\n",
    "df13.loc[df13['V7677']==3,'socialnews']=1\n",
    "df13.loc[df13['V7677']==4,'socialnews']=1\n",
    "\n",
    "df13.loc[df13['V7677']==5,'socialnews']=2\n",
    "df13.loc[df13['V7677']==6,'socialnews']=2\n",
    "\n",
    "\n",
    "df13.loc[df13['fatheredu']==1,'parentedu']=1\n",
    "df13.loc[df13['motheredu']==1,'parentedu']=1\n",
    "\n",
    "\n",
    "df13.loc[df13['V7254']==2,'parenttalk']=1\n",
    "df13.loc[df13['V7254']==3,'parenttalk']=1\n",
    "\n",
    "df13"
   ]
  },
  {
   "cell_type": "code",
   "execution_count": 27,
   "id": "42dc89b5",
   "metadata": {},
   "outputs": [],
   "source": [
    "#FREQUENCY TABLE VALUES"
   ]
  },
  {
   "cell_type": "code",
   "execution_count": 28,
   "id": "0682ea07",
   "metadata": {},
   "outputs": [],
   "source": [
    "df20 = df13.loc[df13['fentanyl'] == 0]"
   ]
  },
  {
   "cell_type": "code",
   "execution_count": 29,
   "id": "7c3b81e1",
   "metadata": {},
   "outputs": [
    {
     "data": {
      "text/plain": [
       "V7202\n",
       "1    1860\n",
       "2    1757\n",
       "Name: count, dtype: int64"
      ]
     },
     "execution_count": 29,
     "metadata": {},
     "output_type": "execute_result"
    }
   ],
   "source": [
    "df20['V7202'].value_counts()"
   ]
  },
  {
   "cell_type": "code",
   "execution_count": 30,
   "id": "12c8dbf2",
   "metadata": {},
   "outputs": [
    {
     "data": {
      "text/plain": [
       "V1070\n",
       "2    2559\n",
       "1     539\n",
       "3     519\n",
       "Name: count, dtype: int64"
      ]
     },
     "execution_count": 30,
     "metadata": {},
     "output_type": "execute_result"
    }
   ],
   "source": [
    "df20['V1070'].value_counts()"
   ]
  },
  {
   "cell_type": "code",
   "execution_count": 31,
   "id": "92a0f2db",
   "metadata": {},
   "outputs": [
    {
     "data": {
      "text/plain": [
       "V7234\n",
       "0    2963\n",
       "1     654\n",
       "Name: count, dtype: int64"
      ]
     },
     "execution_count": 31,
     "metadata": {},
     "output_type": "execute_result"
    }
   ],
   "source": [
    "df20['V7234'].value_counts()"
   ]
  },
  {
   "cell_type": "code",
   "execution_count": 32,
   "id": "64a86814",
   "metadata": {},
   "outputs": [
    {
     "data": {
      "text/plain": [
       "V7784\n",
       "2    3327\n",
       "1     290\n",
       "Name: count, dtype: int64"
      ]
     },
     "execution_count": 32,
     "metadata": {},
     "output_type": "execute_result"
    }
   ],
   "source": [
    "df20['V7784'].value_counts()"
   ]
  },
  {
   "cell_type": "code",
   "execution_count": 33,
   "id": "f96429fb",
   "metadata": {},
   "outputs": [
    {
     "data": {
      "text/plain": [
       "alcohol\n",
       "0    2781\n",
       "1     603\n",
       "2     233\n",
       "Name: count, dtype: int64"
      ]
     },
     "execution_count": 33,
     "metadata": {},
     "output_type": "execute_result"
    }
   ],
   "source": [
    "df20['alcohol'].value_counts()"
   ]
  },
  {
   "cell_type": "code",
   "execution_count": 34,
   "id": "041df6e3",
   "metadata": {},
   "outputs": [
    {
     "data": {
      "text/plain": [
       "socialuse\n",
       "1    2370\n",
       "2     885\n",
       "0     362\n",
       "Name: count, dtype: int64"
      ]
     },
     "execution_count": 34,
     "metadata": {},
     "output_type": "execute_result"
    }
   ],
   "source": [
    "df20['socialuse'].value_counts()"
   ]
  },
  {
   "cell_type": "code",
   "execution_count": 35,
   "id": "974a278c",
   "metadata": {},
   "outputs": [
    {
     "data": {
      "text/plain": [
       "socialnews\n",
       "2    2968\n",
       "1     425\n",
       "0     224\n",
       "Name: count, dtype: int64"
      ]
     },
     "execution_count": 35,
     "metadata": {},
     "output_type": "execute_result"
    }
   ],
   "source": [
    "df20['socialnews'].value_counts()"
   ]
  },
  {
   "cell_type": "code",
   "execution_count": 36,
   "id": "8dc439cb",
   "metadata": {},
   "outputs": [
    {
     "data": {
      "text/plain": [
       "parenttalk\n",
       "1    2632\n",
       "0     985\n",
       "Name: count, dtype: int64"
      ]
     },
     "execution_count": 36,
     "metadata": {},
     "output_type": "execute_result"
    }
   ],
   "source": [
    "df20['parenttalk'].value_counts()"
   ]
  },
  {
   "cell_type": "code",
   "execution_count": 37,
   "id": "114242bf",
   "metadata": {},
   "outputs": [
    {
     "data": {
      "text/plain": [
       "parentedu\n",
       "1    2610\n",
       "0    1007\n",
       "Name: count, dtype: int64"
      ]
     },
     "execution_count": 37,
     "metadata": {},
     "output_type": "execute_result"
    }
   ],
   "source": [
    "df20['parentedu'].value_counts()"
   ]
  },
  {
   "cell_type": "code",
   "execution_count": 38,
   "id": "839dad0d",
   "metadata": {},
   "outputs": [],
   "source": [
    "df20_1 = df13.loc[df13['fentanyl'] == 1]"
   ]
  },
  {
   "cell_type": "code",
   "execution_count": 39,
   "id": "5b456468",
   "metadata": {},
   "outputs": [
    {
     "data": {
      "text/plain": [
       "V7202\n",
       "1    7\n",
       "2    7\n",
       "Name: count, dtype: int64"
      ]
     },
     "execution_count": 39,
     "metadata": {},
     "output_type": "execute_result"
    }
   ],
   "source": [
    "df20_1['V7202'].value_counts()"
   ]
  },
  {
   "cell_type": "code",
   "execution_count": 40,
   "id": "9d8de636",
   "metadata": {},
   "outputs": [
    {
     "data": {
      "text/plain": [
       "V1070\n",
       "1    6\n",
       "2    6\n",
       "3    2\n",
       "Name: count, dtype: int64"
      ]
     },
     "execution_count": 40,
     "metadata": {},
     "output_type": "execute_result"
    }
   ],
   "source": [
    "df20_1['V1070'].value_counts()"
   ]
  },
  {
   "cell_type": "code",
   "execution_count": 41,
   "id": "f352d5d3",
   "metadata": {},
   "outputs": [
    {
     "data": {
      "text/plain": [
       "V7234\n",
       "1    8\n",
       "0    6\n",
       "Name: count, dtype: int64"
      ]
     },
     "execution_count": 41,
     "metadata": {},
     "output_type": "execute_result"
    }
   ],
   "source": [
    "df20_1['V7234'].value_counts()"
   ]
  },
  {
   "cell_type": "code",
   "execution_count": 42,
   "id": "b0fee77c",
   "metadata": {},
   "outputs": [
    {
     "data": {
      "text/plain": [
       "V7784\n",
       "2    12\n",
       "1     2\n",
       "Name: count, dtype: int64"
      ]
     },
     "execution_count": 42,
     "metadata": {},
     "output_type": "execute_result"
    }
   ],
   "source": [
    "df20_1['V7784'].value_counts()"
   ]
  },
  {
   "cell_type": "code",
   "execution_count": 43,
   "id": "5027e9a9",
   "metadata": {},
   "outputs": [
    {
     "data": {
      "text/plain": [
       "alcohol\n",
       "0    8\n",
       "1    4\n",
       "2    2\n",
       "Name: count, dtype: int64"
      ]
     },
     "execution_count": 43,
     "metadata": {},
     "output_type": "execute_result"
    }
   ],
   "source": [
    "df20_1['alcohol'].value_counts()"
   ]
  },
  {
   "cell_type": "code",
   "execution_count": 44,
   "id": "4989c0b6",
   "metadata": {},
   "outputs": [
    {
     "data": {
      "text/plain": [
       "socialuse\n",
       "1    8\n",
       "2    5\n",
       "0    1\n",
       "Name: count, dtype: int64"
      ]
     },
     "execution_count": 44,
     "metadata": {},
     "output_type": "execute_result"
    }
   ],
   "source": [
    "df20_1['socialuse'].value_counts()"
   ]
  },
  {
   "cell_type": "code",
   "execution_count": 45,
   "id": "81c76e50",
   "metadata": {},
   "outputs": [
    {
     "data": {
      "text/plain": [
       "socialnews\n",
       "2    12\n",
       "0     1\n",
       "1     1\n",
       "Name: count, dtype: int64"
      ]
     },
     "execution_count": 45,
     "metadata": {},
     "output_type": "execute_result"
    }
   ],
   "source": [
    "df20_1['socialnews'].value_counts()"
   ]
  },
  {
   "cell_type": "code",
   "execution_count": 46,
   "id": "1f8da8d4",
   "metadata": {},
   "outputs": [
    {
     "data": {
      "text/plain": [
       "parenttalk\n",
       "1    9\n",
       "0    5\n",
       "Name: count, dtype: int64"
      ]
     },
     "execution_count": 46,
     "metadata": {},
     "output_type": "execute_result"
    }
   ],
   "source": [
    "df20_1['parenttalk'].value_counts()"
   ]
  },
  {
   "cell_type": "code",
   "execution_count": 47,
   "id": "0db9f26b",
   "metadata": {},
   "outputs": [
    {
     "data": {
      "text/plain": [
       "parentedu\n",
       "1    13\n",
       "0     1\n",
       "Name: count, dtype: int64"
      ]
     },
     "execution_count": 47,
     "metadata": {},
     "output_type": "execute_result"
    }
   ],
   "source": [
    "df20_1['parentedu'].value_counts()"
   ]
  },
  {
   "cell_type": "code",
   "execution_count": 48,
   "id": "260c35ca",
   "metadata": {},
   "outputs": [],
   "source": [
    "df14 = df13.loc[df13['V501'] == 8]"
   ]
  },
  {
   "cell_type": "code",
   "execution_count": 49,
   "id": "db4c07d7",
   "metadata": {},
   "outputs": [],
   "source": [
    "df21 = df14.loc[df14['fentanyl'] == 0]"
   ]
  },
  {
   "cell_type": "code",
   "execution_count": 50,
   "id": "bf05e9b5",
   "metadata": {},
   "outputs": [
    {
     "data": {
      "text/plain": [
       "V7202\n",
       "1    956\n",
       "2    809\n",
       "Name: count, dtype: int64"
      ]
     },
     "execution_count": 50,
     "metadata": {},
     "output_type": "execute_result"
    }
   ],
   "source": [
    "df21['V7202'].value_counts()"
   ]
  },
  {
   "cell_type": "code",
   "execution_count": 51,
   "id": "e2501bba",
   "metadata": {},
   "outputs": [
    {
     "data": {
      "text/plain": [
       "V1070\n",
       "2    1338\n",
       "1     236\n",
       "3     191\n",
       "Name: count, dtype: int64"
      ]
     },
     "execution_count": 51,
     "metadata": {},
     "output_type": "execute_result"
    }
   ],
   "source": [
    "df21['V1070'].value_counts()"
   ]
  },
  {
   "cell_type": "code",
   "execution_count": 52,
   "id": "18d6eb20",
   "metadata": {},
   "outputs": [
    {
     "data": {
      "text/plain": [
       "V7234\n",
       "0    1442\n",
       "1     323\n",
       "Name: count, dtype: int64"
      ]
     },
     "execution_count": 52,
     "metadata": {},
     "output_type": "execute_result"
    }
   ],
   "source": [
    "df21['V7234'].value_counts()"
   ]
  },
  {
   "cell_type": "code",
   "execution_count": 53,
   "id": "548acfb2",
   "metadata": {},
   "outputs": [
    {
     "data": {
      "text/plain": [
       "V7784\n",
       "2    1685\n",
       "1      80\n",
       "Name: count, dtype: int64"
      ]
     },
     "execution_count": 53,
     "metadata": {},
     "output_type": "execute_result"
    }
   ],
   "source": [
    "df21['V7784'].value_counts()"
   ]
  },
  {
   "cell_type": "code",
   "execution_count": 54,
   "id": "7909ddfc",
   "metadata": {},
   "outputs": [
    {
     "data": {
      "text/plain": [
       "alcohol\n",
       "0    1470\n",
       "1     226\n",
       "2      69\n",
       "Name: count, dtype: int64"
      ]
     },
     "execution_count": 54,
     "metadata": {},
     "output_type": "execute_result"
    }
   ],
   "source": [
    "df21['alcohol'].value_counts()"
   ]
  },
  {
   "cell_type": "code",
   "execution_count": 55,
   "id": "3b0dbfab",
   "metadata": {},
   "outputs": [
    {
     "data": {
      "text/plain": [
       "socialuse\n",
       "1    1137\n",
       "2     387\n",
       "0     241\n",
       "Name: count, dtype: int64"
      ]
     },
     "execution_count": 55,
     "metadata": {},
     "output_type": "execute_result"
    }
   ],
   "source": [
    "df21['socialuse'].value_counts()"
   ]
  },
  {
   "cell_type": "code",
   "execution_count": 56,
   "id": "3fc20fb4",
   "metadata": {},
   "outputs": [
    {
     "data": {
      "text/plain": [
       "socialnews\n",
       "2    1392\n",
       "1     232\n",
       "0     141\n",
       "Name: count, dtype: int64"
      ]
     },
     "execution_count": 56,
     "metadata": {},
     "output_type": "execute_result"
    }
   ],
   "source": [
    "df21['socialnews'].value_counts()"
   ]
  },
  {
   "cell_type": "code",
   "execution_count": 57,
   "id": "1101e6c5",
   "metadata": {},
   "outputs": [
    {
     "data": {
      "text/plain": [
       "parenttalk\n",
       "1    1276\n",
       "0     489\n",
       "Name: count, dtype: int64"
      ]
     },
     "execution_count": 57,
     "metadata": {},
     "output_type": "execute_result"
    }
   ],
   "source": [
    "df21['parenttalk'].value_counts()"
   ]
  },
  {
   "cell_type": "code",
   "execution_count": 58,
   "id": "564de170",
   "metadata": {},
   "outputs": [
    {
     "data": {
      "text/plain": [
       "parentedu\n",
       "1    1248\n",
       "0     517\n",
       "Name: count, dtype: int64"
      ]
     },
     "execution_count": 58,
     "metadata": {},
     "output_type": "execute_result"
    }
   ],
   "source": [
    "df21['parentedu'].value_counts()"
   ]
  },
  {
   "cell_type": "code",
   "execution_count": 59,
   "id": "097bac4f",
   "metadata": {},
   "outputs": [],
   "source": [
    "df21_1 = df14.loc[df14['fentanyl'] == 1]"
   ]
  },
  {
   "cell_type": "code",
   "execution_count": 60,
   "id": "1cd5d04f",
   "metadata": {},
   "outputs": [
    {
     "data": {
      "text/plain": [
       "V7202\n",
       "1    4\n",
       "2    3\n",
       "Name: count, dtype: int64"
      ]
     },
     "execution_count": 60,
     "metadata": {},
     "output_type": "execute_result"
    }
   ],
   "source": [
    "df21_1['V7202'].value_counts()"
   ]
  },
  {
   "cell_type": "code",
   "execution_count": 61,
   "id": "33c75970",
   "metadata": {},
   "outputs": [
    {
     "data": {
      "text/plain": [
       "V1070\n",
       "1    4\n",
       "2    2\n",
       "3    1\n",
       "Name: count, dtype: int64"
      ]
     },
     "execution_count": 61,
     "metadata": {},
     "output_type": "execute_result"
    }
   ],
   "source": [
    "df21_1['V1070'].value_counts()"
   ]
  },
  {
   "cell_type": "code",
   "execution_count": 62,
   "id": "85dd3586",
   "metadata": {},
   "outputs": [
    {
     "data": {
      "text/plain": [
       "V7234\n",
       "1    4\n",
       "0    3\n",
       "Name: count, dtype: int64"
      ]
     },
     "execution_count": 62,
     "metadata": {},
     "output_type": "execute_result"
    }
   ],
   "source": [
    "df21_1['V7234'].value_counts()"
   ]
  },
  {
   "cell_type": "code",
   "execution_count": 63,
   "id": "a4085ce1",
   "metadata": {},
   "outputs": [
    {
     "data": {
      "text/plain": [
       "V7784\n",
       "2    5\n",
       "1    2\n",
       "Name: count, dtype: int64"
      ]
     },
     "execution_count": 63,
     "metadata": {},
     "output_type": "execute_result"
    }
   ],
   "source": [
    "df21_1['V7784'].value_counts()"
   ]
  },
  {
   "cell_type": "code",
   "execution_count": 64,
   "id": "92e14e81",
   "metadata": {},
   "outputs": [
    {
     "data": {
      "text/plain": [
       "alcohol\n",
       "0    4\n",
       "1    2\n",
       "2    1\n",
       "Name: count, dtype: int64"
      ]
     },
     "execution_count": 64,
     "metadata": {},
     "output_type": "execute_result"
    }
   ],
   "source": [
    "df21_1['alcohol'].value_counts()"
   ]
  },
  {
   "cell_type": "code",
   "execution_count": 65,
   "id": "2ebf9c42",
   "metadata": {},
   "outputs": [
    {
     "data": {
      "text/plain": [
       "socialuse\n",
       "1    4\n",
       "2    2\n",
       "0    1\n",
       "Name: count, dtype: int64"
      ]
     },
     "execution_count": 65,
     "metadata": {},
     "output_type": "execute_result"
    }
   ],
   "source": [
    "df21_1['socialuse'].value_counts()"
   ]
  },
  {
   "cell_type": "code",
   "execution_count": 66,
   "id": "30107409",
   "metadata": {},
   "outputs": [
    {
     "data": {
      "text/plain": [
       "socialnews\n",
       "2    5\n",
       "0    1\n",
       "1    1\n",
       "Name: count, dtype: int64"
      ]
     },
     "execution_count": 66,
     "metadata": {},
     "output_type": "execute_result"
    }
   ],
   "source": [
    "df21_1['socialnews'].value_counts()"
   ]
  },
  {
   "cell_type": "code",
   "execution_count": 67,
   "id": "c53faf94",
   "metadata": {},
   "outputs": [
    {
     "data": {
      "text/plain": [
       "parenttalk\n",
       "1    4\n",
       "0    3\n",
       "Name: count, dtype: int64"
      ]
     },
     "execution_count": 67,
     "metadata": {},
     "output_type": "execute_result"
    }
   ],
   "source": [
    "df21_1['parenttalk'].value_counts()"
   ]
  },
  {
   "cell_type": "code",
   "execution_count": 68,
   "id": "8fdfb073",
   "metadata": {},
   "outputs": [
    {
     "data": {
      "text/plain": [
       "parentedu\n",
       "1    6\n",
       "0    1\n",
       "Name: count, dtype: int64"
      ]
     },
     "execution_count": 68,
     "metadata": {},
     "output_type": "execute_result"
    }
   ],
   "source": [
    "df21_1['parentedu'].value_counts()"
   ]
  },
  {
   "cell_type": "code",
   "execution_count": 69,
   "id": "fc8d8b55",
   "metadata": {},
   "outputs": [],
   "source": [
    "df15 = df13.loc[df13['V501'] == 10]"
   ]
  },
  {
   "cell_type": "code",
   "execution_count": 70,
   "id": "d8e8bbd9",
   "metadata": {},
   "outputs": [],
   "source": [
    "df22 = df15.loc[df15['fentanyl'] == 0]"
   ]
  },
  {
   "cell_type": "code",
   "execution_count": 71,
   "id": "e57ce5db",
   "metadata": {},
   "outputs": [
    {
     "data": {
      "text/plain": [
       "V7202\n",
       "2    948\n",
       "1    904\n",
       "Name: count, dtype: int64"
      ]
     },
     "execution_count": 71,
     "metadata": {},
     "output_type": "execute_result"
    }
   ],
   "source": [
    "df22['V7202'].value_counts()"
   ]
  },
  {
   "cell_type": "code",
   "execution_count": 72,
   "id": "0083368f",
   "metadata": {},
   "outputs": [
    {
     "data": {
      "text/plain": [
       "V1070\n",
       "2    1221\n",
       "3     328\n",
       "1     303\n",
       "Name: count, dtype: int64"
      ]
     },
     "execution_count": 72,
     "metadata": {},
     "output_type": "execute_result"
    }
   ],
   "source": [
    "df22['V1070'].value_counts()"
   ]
  },
  {
   "cell_type": "code",
   "execution_count": 73,
   "id": "4a469e24",
   "metadata": {},
   "outputs": [
    {
     "data": {
      "text/plain": [
       "V7234\n",
       "0    1521\n",
       "1     331\n",
       "Name: count, dtype: int64"
      ]
     },
     "execution_count": 73,
     "metadata": {},
     "output_type": "execute_result"
    }
   ],
   "source": [
    "df22['V7234'].value_counts()"
   ]
  },
  {
   "cell_type": "code",
   "execution_count": 74,
   "id": "0901291d",
   "metadata": {},
   "outputs": [
    {
     "data": {
      "text/plain": [
       "V7784\n",
       "2    1642\n",
       "1     210\n",
       "Name: count, dtype: int64"
      ]
     },
     "execution_count": 74,
     "metadata": {},
     "output_type": "execute_result"
    }
   ],
   "source": [
    "df22['V7784'].value_counts()"
   ]
  },
  {
   "cell_type": "code",
   "execution_count": 75,
   "id": "6a58f1dd",
   "metadata": {},
   "outputs": [
    {
     "data": {
      "text/plain": [
       "alcohol\n",
       "0    1311\n",
       "1     377\n",
       "2     164\n",
       "Name: count, dtype: int64"
      ]
     },
     "execution_count": 75,
     "metadata": {},
     "output_type": "execute_result"
    }
   ],
   "source": [
    "df22['alcohol'].value_counts()"
   ]
  },
  {
   "cell_type": "code",
   "execution_count": 76,
   "id": "53b5aab6",
   "metadata": {},
   "outputs": [
    {
     "data": {
      "text/plain": [
       "socialuse\n",
       "1    1233\n",
       "2     498\n",
       "0     121\n",
       "Name: count, dtype: int64"
      ]
     },
     "execution_count": 76,
     "metadata": {},
     "output_type": "execute_result"
    }
   ],
   "source": [
    "df22['socialuse'].value_counts()"
   ]
  },
  {
   "cell_type": "code",
   "execution_count": 77,
   "id": "dc033950",
   "metadata": {},
   "outputs": [
    {
     "data": {
      "text/plain": [
       "socialnews\n",
       "2    1576\n",
       "1     193\n",
       "0      83\n",
       "Name: count, dtype: int64"
      ]
     },
     "execution_count": 77,
     "metadata": {},
     "output_type": "execute_result"
    }
   ],
   "source": [
    "df22['socialnews'].value_counts()"
   ]
  },
  {
   "cell_type": "code",
   "execution_count": 78,
   "id": "de98dc2f",
   "metadata": {},
   "outputs": [
    {
     "data": {
      "text/plain": [
       "parenttalk\n",
       "1    1356\n",
       "0     496\n",
       "Name: count, dtype: int64"
      ]
     },
     "execution_count": 78,
     "metadata": {},
     "output_type": "execute_result"
    }
   ],
   "source": [
    "df22['parenttalk'].value_counts()"
   ]
  },
  {
   "cell_type": "code",
   "execution_count": 79,
   "id": "f9b20097",
   "metadata": {},
   "outputs": [
    {
     "data": {
      "text/plain": [
       "parentedu\n",
       "1    1362\n",
       "0     490\n",
       "Name: count, dtype: int64"
      ]
     },
     "execution_count": 79,
     "metadata": {},
     "output_type": "execute_result"
    }
   ],
   "source": [
    "df22['parentedu'].value_counts()"
   ]
  },
  {
   "cell_type": "code",
   "execution_count": 80,
   "id": "fd884c69",
   "metadata": {},
   "outputs": [],
   "source": [
    "df22_1 = df15.loc[df15['fentanyl'] == 1]"
   ]
  },
  {
   "cell_type": "code",
   "execution_count": 81,
   "id": "89fa4800",
   "metadata": {},
   "outputs": [
    {
     "data": {
      "text/plain": [
       "V7202\n",
       "2    4\n",
       "1    3\n",
       "Name: count, dtype: int64"
      ]
     },
     "execution_count": 81,
     "metadata": {},
     "output_type": "execute_result"
    }
   ],
   "source": [
    "df22_1['V7202'].value_counts()"
   ]
  },
  {
   "cell_type": "code",
   "execution_count": 82,
   "id": "634dc89e",
   "metadata": {},
   "outputs": [
    {
     "data": {
      "text/plain": [
       "V1070\n",
       "2    4\n",
       "1    2\n",
       "3    1\n",
       "Name: count, dtype: int64"
      ]
     },
     "execution_count": 82,
     "metadata": {},
     "output_type": "execute_result"
    }
   ],
   "source": [
    "df22_1['V1070'].value_counts()"
   ]
  },
  {
   "cell_type": "code",
   "execution_count": 83,
   "id": "dc4b1d74",
   "metadata": {},
   "outputs": [
    {
     "data": {
      "text/plain": [
       "V7234\n",
       "1    4\n",
       "0    3\n",
       "Name: count, dtype: int64"
      ]
     },
     "execution_count": 83,
     "metadata": {},
     "output_type": "execute_result"
    }
   ],
   "source": [
    "df22_1['V7234'].value_counts()"
   ]
  },
  {
   "cell_type": "code",
   "execution_count": 84,
   "id": "48c7b060",
   "metadata": {},
   "outputs": [
    {
     "data": {
      "text/plain": [
       "V7784\n",
       "2    7\n",
       "Name: count, dtype: int64"
      ]
     },
     "execution_count": 84,
     "metadata": {},
     "output_type": "execute_result"
    }
   ],
   "source": [
    "df22_1['V7784'].value_counts()"
   ]
  },
  {
   "cell_type": "code",
   "execution_count": 85,
   "id": "e363b875",
   "metadata": {},
   "outputs": [
    {
     "data": {
      "text/plain": [
       "alcohol\n",
       "0    4\n",
       "1    2\n",
       "2    1\n",
       "Name: count, dtype: int64"
      ]
     },
     "execution_count": 85,
     "metadata": {},
     "output_type": "execute_result"
    }
   ],
   "source": [
    "df22_1['alcohol'].value_counts()"
   ]
  },
  {
   "cell_type": "code",
   "execution_count": 86,
   "id": "fd2ef17c",
   "metadata": {},
   "outputs": [
    {
     "data": {
      "text/plain": [
       "socialuse\n",
       "1    4\n",
       "2    3\n",
       "Name: count, dtype: int64"
      ]
     },
     "execution_count": 86,
     "metadata": {},
     "output_type": "execute_result"
    }
   ],
   "source": [
    "df22_1['socialuse'].value_counts()"
   ]
  },
  {
   "cell_type": "code",
   "execution_count": 87,
   "id": "86b2f86d",
   "metadata": {},
   "outputs": [
    {
     "data": {
      "text/plain": [
       "socialnews\n",
       "2    7\n",
       "Name: count, dtype: int64"
      ]
     },
     "execution_count": 87,
     "metadata": {},
     "output_type": "execute_result"
    }
   ],
   "source": [
    "df22_1['socialnews'].value_counts()"
   ]
  },
  {
   "cell_type": "code",
   "execution_count": 88,
   "id": "c8afc8ee",
   "metadata": {},
   "outputs": [
    {
     "data": {
      "text/plain": [
       "parenttalk\n",
       "1    5\n",
       "0    2\n",
       "Name: count, dtype: int64"
      ]
     },
     "execution_count": 88,
     "metadata": {},
     "output_type": "execute_result"
    }
   ],
   "source": [
    "df22_1['parenttalk'].value_counts()"
   ]
  },
  {
   "cell_type": "code",
   "execution_count": 89,
   "id": "6bbed509",
   "metadata": {},
   "outputs": [
    {
     "data": {
      "text/plain": [
       "parentedu\n",
       "1    7\n",
       "Name: count, dtype: int64"
      ]
     },
     "execution_count": 89,
     "metadata": {},
     "output_type": "execute_result"
    }
   ],
   "source": [
    "df22_1['parentedu'].value_counts()"
   ]
  },
  {
   "cell_type": "code",
   "execution_count": 101,
   "id": "a0b9f829",
   "metadata": {},
   "outputs": [
    {
     "name": "stdout",
     "output_type": "stream",
     "text": [
      "           mean  min  max  count\n",
      "V7202                           \n",
      "1      0.003749    0    1   1867\n",
      "2      0.003968    0    1   1764\n",
      "           mean  min  max  count\n",
      "V1070                           \n",
      "1      0.011009    0    1    545\n",
      "2      0.002339    0    1   2565\n",
      "3      0.003839    0    1    521\n",
      "               mean  min  max  count\n",
      "parentedu                           \n",
      "0          0.000992    0    1   1008\n",
      "1          0.004956    0    1   2623\n",
      "           mean  min  max  count\n",
      "V7234                           \n",
      "0      0.002021    0    1   2969\n",
      "1      0.012085    0    1    662\n",
      "           mean  min  max  count\n",
      "V7784                           \n",
      "1      0.006849    0    1    292\n",
      "2      0.003594    0    1   3339\n",
      "             mean  min  max  count\n",
      "alcohol                           \n",
      "0        0.002868    0    1   2789\n",
      "1        0.006590    0    1    607\n",
      "2        0.008511    0    1    235\n",
      "               mean  min  max  count\n",
      "socialuse                           \n",
      "0          0.002755    0    1    363\n",
      "1          0.003364    0    1   2378\n",
      "2          0.005618    0    1    890\n",
      "                mean  min  max  count\n",
      "socialnews                           \n",
      "0           0.004444    0    1    225\n",
      "1           0.002347    0    1    426\n",
      "2           0.004027    0    1   2980\n",
      "                mean  min  max  count\n",
      "parenttalk                           \n",
      "0           0.005051    0    1    990\n",
      "1           0.003408    0    1   2641\n",
      "=================================================\n",
      "           mean  min  max  count\n",
      "V7202                           \n",
      "1      0.004167    0    1    960\n",
      "2      0.003695    0    1    812\n",
      "           mean  min  max  count\n",
      "V1070                           \n",
      "1      0.016667    0    1    240\n",
      "2      0.001493    0    1   1340\n",
      "3      0.005208    0    1    192\n",
      "               mean  min  max  count\n",
      "parentedu                           \n",
      "0          0.001931    0    1    518\n",
      "1          0.004785    0    1   1254\n",
      "           mean  min  max  count\n",
      "V7234                           \n",
      "0      0.002076    0    1   1445\n",
      "1      0.012232    0    1    327\n",
      "           mean  min  max  count\n",
      "V7784                           \n",
      "1      0.024390    0    1     82\n",
      "2      0.002959    0    1   1690\n",
      "             mean  min  max  count\n",
      "alcohol                           \n",
      "0        0.002714    0    1   1474\n",
      "1        0.008772    0    1    228\n",
      "2        0.014286    0    1     70\n",
      "               mean  min  max  count\n",
      "socialuse                           \n",
      "0          0.004132    0    1    242\n",
      "1          0.003506    0    1   1141\n",
      "2          0.005141    0    1    389\n",
      "                mean  min  max  count\n",
      "socialnews                           \n",
      "0           0.007042    0    1    142\n",
      "1           0.004292    0    1    233\n",
      "2           0.003579    0    1   1397\n",
      "                mean  min  max  count\n",
      "parenttalk                           \n",
      "0           0.006098    0    1    492\n",
      "1           0.003125    0    1   1280\n",
      "=================================================\n",
      "           mean  min  max  count\n",
      "V7202                           \n",
      "1      0.003308    0    1    907\n",
      "2      0.004202    0    1    952\n",
      "           mean  min  max  count\n",
      "V1070                           \n",
      "1      0.006557    0    1    305\n",
      "2      0.003265    0    1   1225\n",
      "3      0.003040    0    1    329\n",
      "               mean  min  max  count\n",
      "parentedu                           \n",
      "0          0.000000    0    0    490\n",
      "1          0.005113    0    1   1369\n",
      "           mean  min  max  count\n",
      "V7234                           \n",
      "0      0.001969    0    1   1524\n",
      "1      0.011940    0    1    335\n",
      "           mean  min  max  count\n",
      "V7784                           \n",
      "1      0.000000    0    0    210\n",
      "2      0.004245    0    1   1649\n",
      "             mean  min  max  count\n",
      "alcohol                           \n",
      "0        0.003042    0    1   1315\n",
      "1        0.005277    0    1    379\n",
      "2        0.006061    0    1    165\n",
      "               mean  min  max  count\n",
      "socialuse                           \n",
      "0          0.000000    0    0    121\n",
      "1          0.003234    0    1   1237\n",
      "2          0.005988    0    1    501\n",
      "                mean  min  max  count\n",
      "socialnews                           \n",
      "0           0.000000    0    0     83\n",
      "1           0.000000    0    0    193\n",
      "2           0.004422    0    1   1583\n",
      "                mean  min  max  count\n",
      "parenttalk                           \n",
      "0           0.004016    0    1    498\n",
      "1           0.003674    0    1   1361\n"
     ]
    }
   ],
   "source": [
    "def df_group_stat(df, x):\n",
    "    grouped = df.groupby([x])\n",
    "    result = grouped[\"fentanyl\"].agg(['mean', 'min', 'max', 'count'])\n",
    "    print(result)\n",
    "    \n",
    "       \n",
    "df_group_stat(df13, \"V7202\")\n",
    "df_group_stat(df13, \"V1070\")\n",
    "df_group_stat(df13, \"parentedu\")\n",
    "df_group_stat(df13, \"V7234\")\n",
    "df_group_stat(df13, \"V7784\")\n",
    "df_group_stat(df13, \"alcohol\")\n",
    "df_group_stat(df13, \"socialuse\")\n",
    "df_group_stat(df13, \"socialnews\")\n",
    "df_group_stat(df13, \"parenttalk\")\n",
    "\n",
    "print(\"=================================================\")\n",
    "\n",
    "df_group_stat(df14, \"V7202\")\n",
    "df_group_stat(df14, \"V1070\")\n",
    "df_group_stat(df14, \"parentedu\")\n",
    "df_group_stat(df14, \"V7234\")\n",
    "df_group_stat(df14, \"V7784\")\n",
    "df_group_stat(df14, \"alcohol\")\n",
    "df_group_stat(df14, \"socialuse\")\n",
    "df_group_stat(df14, \"socialnews\")\n",
    "df_group_stat(df14, \"parenttalk\")\n",
    "\n",
    "print(\"=================================================\")\n",
    "\n",
    "df_group_stat(df15, \"V7202\")\n",
    "df_group_stat(df15, \"V1070\")\n",
    "df_group_stat(df15, \"parentedu\")\n",
    "df_group_stat(df15, \"V7234\")\n",
    "df_group_stat(df15, \"V7784\")\n",
    "df_group_stat(df15, \"alcohol\")\n",
    "df_group_stat(df15, \"socialuse\")\n",
    "df_group_stat(df15, \"socialnews\")\n",
    "df_group_stat(df15, \"parenttalk\")\n"
   ]
  },
  {
   "cell_type": "code",
   "execution_count": 96,
   "id": "6a9ae3da",
   "metadata": {},
   "outputs": [],
   "source": [
    "#GRAPHS"
   ]
  },
  {
   "cell_type": "code",
   "execution_count": 97,
   "id": "17dab6c8",
   "metadata": {},
   "outputs": [
    {
     "data": {
      "image/png": "[encoded data removed]",
      "text/plain": [
       "<Figure size 800x400 with 1 Axes>"
      ]
     },
     "metadata": {},
     "output_type": "display_data"
    }
   ],
   "source": [
    "data=[[\"Sex\", 0.3729, 0.3948],\n",
    "      [\"Race\", 1.1009, 0.2339, 0.3839],\n",
    "      [\"Parent education\", 0.0992, 0.4956],\n",
    "      [\"Suspended\", 0.2021, 1.2085],\n",
    "      [\"Marijuana Use\", 0.6849, 0.3594],\n",
    "      [\"Alcohol Use\", 0.2868, 0.6590, 0.8511],\n",
    "      [\"Social Media Usage\", 0.2755, 0.3364, 0.5618],\n",
    "      [\"Social Media News\", 0.4444, 0.2347, 0.4027],\n",
    "      [\"Parent Talk\", 0.5051, 0.3408]\n",
    "     ]\n",
    "\n",
    "Df=pd.DataFrame(data,columns=[\"Variables\", 'Group 1', 'Group 2', 'Group 3'])\n",
    "\n",
    "Df.plot(x=\"Variables\", y=['Group 1', 'Group 2', 'Group 3'], kind=\"bar\",\n",
    " figsize=(8,4))\n",
    "plt.grid(True, axis = 'y', color='red', alpha=0.5, linestyle='--')\n",
    "plt.ylabel('Fentanyl usage percentage')\n",
    "plt.title(label=\"Figure 1. Comparison of fentanyl usage percentage in different groups \\n categorized by different variables among the total sample\\n\",\n",
    "          fontsize=13,\n",
    "          color=\"black\")\n",
    "\n",
    "plt.annotate(\"Groups for each variable:\\n Sex: Male; Female\\n Race: Black; White; Hispanic\\n Parent education: High School or equivalent/Don't know; College or above\\n Suspended: Never been suspended; Has been suspended\\n Marijuana Usage during last 12 months: No; Yes\\n Alcohol Usage: 0 occasions; 1-5 occasions; 6-40 or more occasions\\n Social Media Exposure: None; less than 1 hour-4 hours; 5-9 hours or more\\n Social Media Usage for News: Never; Few times - once a week; Almost daily or daily\\n Parent talk(presence of a problem): No; Yes\\n (Format: Group 1; Group 2; Group 3)\",\n",
    "            xy = (-0.05, -0.85),\n",
    "            xycoords='axes fraction',\n",
    "            ha='left',\n",
    "            va=\"center\",\n",
    "            fontsize=9,\n",
    "            color=\"#666666\")\n",
    "\n",
    "plt.show()"
   ]
  },
  {
   "cell_type": "code",
   "execution_count": 99,
   "id": "46b1ae76",
   "metadata": {},
   "outputs": [
    {
     "data": {
      "image/png": "[encoded data removed]",
      "text/plain": [
       "<Figure size 800x400 with 1 Axes>"
      ]
     },
     "metadata": {},
     "output_type": "display_data"
    }
   ],
   "source": [
    "data=[[\"Sex(8th)\", 0.4167, 0.3695],\n",
    "      [\"(10th)\", 0.3308, 0.4202],\n",
    "      [\"(total)\", 0.3729, 0.3948],\n",
    "      [\"Race(8th)\", 1.6667, 0.1493, 0.5208],\n",
    "      [\"(10th)\", 0.6557, 0.3265, 0.3040],\n",
    "      [\"(total)\", 1.1009, 0.2339, 0.3839],\n",
    "      [\"Parent education(8th)\", 0.1931, 0.4785],\n",
    "      [\"(10th)\", 0.0000, 0.5113],\n",
    "      [\"(total)\", 0.0992, 0.4956],\n",
    "      [\"Suspended(8th)\", 0.2076, 1.2232],\n",
    "      [\"(10th)\", 0.1969, 1.1940],\n",
    "      [\"(total)\", 0.2021, 1.2085],\n",
    "      [\"Marijuana Use(8th)\", 2.4390, 0.2959],\n",
    "      [\"(10th)\", 0.0000, 0.4245],\n",
    "      [\"(total)\", 0.6849, 0.3594],\n",
    "      [\"Alcohol Use(8th)\", 0.2714, 0.8772, 1.4286],\n",
    "      [\"(10th)\", 0.3042, 0.5277, 0.6061],\n",
    "      [\"(total)\", 0.2868, 0.6590, 0.8511],\n",
    "      [\"Social Media Usage(8th)\", 0.4132, 0.3506, 0.5141],\n",
    "      [\"(10th)\", 0.0000, 0.3234, 0.5988],\n",
    "      [\"(total)\", 0.2755, 0.3364, 0.5618],\n",
    "      [\"Social Media News(8th)\", 0.7042, 0.4292, 0.3579],\n",
    "      [\"(10th)\", 0.0000, 0.0000, 0.4422],\n",
    "      [\"(total)\", 0.4444, 0.2347, 0.4027],\n",
    "      [\"Parent Talk(8th)\", 0.6098, 0.3125],\n",
    "      [\"(10th)\", 0.4016, 0.3674],\n",
    "      [\"(total)\", 0.5051, 0.3408]\n",
    "     ]\n",
    "\n",
    "Df=pd.DataFrame(data,columns=[\"Variables\", 'Group 1', 'Group 2', 'Group 3'])\n",
    "\n",
    "Df.plot(x=\"Variables\", y=['Group 1', 'Group 2', 'Group 3'], kind=\"bar\",\n",
    " figsize=(8,4))\n",
    "plt.grid(True, axis = 'y', color='red', alpha=0.5, linestyle='--')\n",
    "plt.ylabel('Fentanyl usage percentage')\n",
    "plt.title(label=\"Figure 2. Comparison of fentanyl usage percentage in different groups categorized\\n by different variables among 8th and 10th grade and the total sample\\n\",\n",
    "          fontsize=13,\n",
    "          color=\"black\")\n",
    "\n",
    "plt.annotate(\"Groups for each variable:\\n Sex: Male; Female\\n Race: Black; White; Hispanic\\n Parent education: High School or equivalent/Don't know; College or above\\n Suspended: Never been suspended; Has been suspended\\n Marijuana Usage during last 12 months: No; Yes\\n Alcohol Usage: 0 occasions; 1-5 occasions; 6-40 or more occasions\\n Social Media Exposure: None; less than 1 hour-4 hours; 5-9 hours or more\\n Social Media Usage for News: Never; Few times - once a week; Almost daily or daily\\n Parent talk(presence of a problem): No; Yes\\n (Format: Group 1; Group 2; Group 3)\",\n",
    "            xy = (-0.05, -0.98),\n",
    "            xycoords='axes fraction',\n",
    "            ha='left',\n",
    "            va=\"center\",\n",
    "            fontsize=9,\n",
    "            color=\"#666666\")\n",
    "\n",
    "plt.show()"
   ]
  },
  {
   "cell_type": "code",
   "execution_count": 101,
   "id": "be508881",
   "metadata": {},
   "outputs": [
    {
     "data": {
      "text/plain": [
       "Text(0, 0.5, 'Social Media usage For News')"
      ]
     },
     "execution_count": 101,
     "metadata": {},
     "output_type": "execute_result"
    },
    {
     "data": {
      "image/png": "[encoded data removed]",
      "text/plain": [
       "<Figure size 640x480 with 1 Axes>"
      ]
     },
     "metadata": {},
     "output_type": "display_data"
    }
   ],
   "source": [
    "X = df13['V7814'].values\n",
    "Y = df13['V7677'].values\n",
    "\n",
    "stats.spearmanr(X, Y)\n",
    "\n",
    "plt.scatter(X, Y)\n",
    "plt.xlabel('Fentanyl Usage')\n",
    "plt.ylabel('Social Media usage For News')"
   ]
  },
  {
   "cell_type": "code",
   "execution_count": 102,
   "id": "e85886d9",
   "metadata": {},
   "outputs": [
    {
     "data": {
      "text/plain": [
       "Text(0, 0.5, 'Social Media Usage')"
      ]
     },
     "execution_count": 102,
     "metadata": {},
     "output_type": "execute_result"
    },
    {
     "data": {
      "image/png": "[encoded data removed]",
      "text/plain": [
       "<Figure size 640x480 with 1 Axes>"
      ]
     },
     "metadata": {},
     "output_type": "display_data"
    }
   ],
   "source": [
    "X = df13['V7814'].values\n",
    "Y = df13['V7685'].values\n",
    "\n",
    "stats.spearmanr(X, Y)\n",
    "\n",
    "plt.scatter(X, Y)\n",
    "plt.xlabel('Fentanyl Usage')\n",
    "plt.ylabel('Social Media Usage')"
   ]
  },
  {
   "cell_type": "code",
   "execution_count": 103,
   "id": "f1e8f0bc",
   "metadata": {},
   "outputs": [
    {
     "data": {
      "text/plain": [
       "Text(0, 0.5, 'Social Media usage For News')"
      ]
     },
     "execution_count": 103,
     "metadata": {},
     "output_type": "execute_result"
    },
    {
     "data": {
      "image/png": "[encoded data removed]",
      "text/plain": [
       "<Figure size 640x480 with 1 Axes>"
      ]
     },
     "metadata": {},
     "output_type": "display_data"
    }
   ],
   "source": [
    "X = df14['V7814'].values\n",
    "Y = df14['V7677'].values\n",
    "\n",
    "stats.spearmanr(X, Y)\n",
    "\n",
    "plt.scatter(X, Y)\n",
    "plt.xlabel('Fentanyl Usage')\n",
    "plt.ylabel('Social Media usage For News')"
   ]
  },
  {
   "cell_type": "code",
   "execution_count": 104,
   "id": "cb8cf75e",
   "metadata": {},
   "outputs": [
    {
     "data": {
      "text/plain": [
       "Text(0, 0.5, 'Social Media Usage')"
      ]
     },
     "execution_count": 104,
     "metadata": {},
     "output_type": "execute_result"
    },
    {
     "data": {
      "image/png": "[encoded data removed]",
      "text/plain": [
       "<Figure size 640x480 with 1 Axes>"
      ]
     },
     "metadata": {},
     "output_type": "display_data"
    }
   ],
   "source": [
    "X = df14['V7814'].values\n",
    "Y = df14['V7685'].values\n",
    "\n",
    "stats.spearmanr(X, Y)\n",
    "\n",
    "plt.scatter(X, Y)\n",
    "plt.xlabel('Fentanyl Usage')\n",
    "plt.ylabel('Social Media Usage')"
   ]
  },
  {
   "cell_type": "code",
   "execution_count": 105,
   "id": "f3ede824",
   "metadata": {},
   "outputs": [
    {
     "data": {
      "text/plain": [
       "Text(0, 0.5, 'Social Media usage For News')"
      ]
     },
     "execution_count": 105,
     "metadata": {},
     "output_type": "execute_result"
    },
    {
     "data": {
      "image/png": "[encoded data removed]",
      "text/plain": [
       "<Figure size 640x480 with 1 Axes>"
      ]
     },
     "metadata": {},
     "output_type": "display_data"
    }
   ],
   "source": [
    "X = df15['V7814'].values\n",
    "Y = df15['V7677'].values\n",
    "\n",
    "stats.spearmanr(X, Y)\n",
    "\n",
    "plt.scatter(X, Y)\n",
    "plt.xlabel('Fentanyl Usage')\n",
    "plt.ylabel('Social Media usage For News')"
   ]
  },
  {
   "cell_type": "code",
   "execution_count": 106,
   "id": "9a93e3c8",
   "metadata": {},
   "outputs": [
    {
     "data": {
      "text/plain": [
       "Text(0, 0.5, 'Social Media Usage')"
      ]
     },
     "execution_count": 106,
     "metadata": {},
     "output_type": "execute_result"
    },
    {
     "data": {
      "image/png": "[encoded data removed]",
      "text/plain": [
       "<Figure size 640x480 with 1 Axes>"
      ]
     },
     "metadata": {},
     "output_type": "display_data"
    }
   ],
   "source": [
    "X = df15['V7814'].values\n",
    "Y = df15['V7685'].values\n",
    "\n",
    "stats.spearmanr(X, Y)\n",
    "\n",
    "plt.scatter(X, Y)\n",
    "plt.xlabel('Fentanyl Usage')\n",
    "plt.ylabel('Social Media Usage')"
   ]
  },
  {
   "cell_type": "code",
   "execution_count": 107,
   "id": "a78803d0",
   "metadata": {},
   "outputs": [
    {
     "data": {
      "text/plain": [
       "Text(0, 0.5, 'Marijuana Usage')"
      ]
     },
     "execution_count": 107,
     "metadata": {},
     "output_type": "execute_result"
    },
    {
     "data": {
      "image/png": "[encoded data removed]",
      "text/plain": [
       "<Figure size 640x480 with 1 Axes>"
      ]
     },
     "metadata": {},
     "output_type": "display_data"
    }
   ],
   "source": [
    "X = df13['V7814'].values\n",
    "Y = df13['V7784'].values\n",
    "\n",
    "stats.spearmanr(X, Y)\n",
    "\n",
    "plt.scatter(X, Y)\n",
    "plt.xlabel('Fentanyl Usage')\n",
    "plt.ylabel('Marijuana Usage')"
   ]
  },
  {
   "cell_type": "code",
   "execution_count": 108,
   "id": "7a33ea7b",
   "metadata": {},
   "outputs": [
    {
     "data": {
      "text/plain": [
       "Text(0, 0.5, 'Marijuana Usage')"
      ]
     },
     "execution_count": 108,
     "metadata": {},
     "output_type": "execute_result"
    },
    {
     "data": {
      "image/png": "[encoded data removed]",
      "text/plain": [
       "<Figure size 640x480 with 1 Axes>"
      ]
     },
     "metadata": {},
     "output_type": "display_data"
    }
   ],
   "source": [
    "X = df14['V7814'].values\n",
    "Y = df14['V7784'].values\n",
    "\n",
    "stats.spearmanr(X, Y)\n",
    "\n",
    "plt.scatter(X, Y)\n",
    "plt.xlabel('Fentanyl Usage')\n",
    "plt.ylabel('Marijuana Usage')"
   ]
  },
  {
   "cell_type": "code",
   "execution_count": 109,
   "id": "0a71ee6d",
   "metadata": {
    "scrolled": true
   },
   "outputs": [
    {
     "data": {
      "text/plain": [
       "Text(0, 0.5, 'Marijuana Usage')"
      ]
     },
     "execution_count": 109,
     "metadata": {},
     "output_type": "execute_result"
    },
    {
     "data": {
      "image/png": "[encoded data removed]",
      "text/plain": [
       "<Figure size 640x480 with 1 Axes>"
      ]
     },
     "metadata": {},
     "output_type": "display_data"
    }
   ],
   "source": [
    "X = df15['V7814'].values\n",
    "Y = df15['V7784'].values\n",
    "\n",
    "stats.spearmanr(X, Y)\n",
    "\n",
    "plt.scatter(X, Y)\n",
    "plt.xlabel('Fentanyl Usage')\n",
    "plt.ylabel('Marijuana Usage')"
   ]
  },
  {
   "cell_type": "code",
   "execution_count": 110,
   "id": "fbdb2893",
   "metadata": {},
   "outputs": [],
   "source": [
    "#LOGISTIC REGRESSION ANALSIS"
   ]
  },
  {
   "cell_type": "code",
   "execution_count": 111,
   "id": "45b0ffe6",
   "metadata": {
    "scrolled": true
   },
   "outputs": [],
   "source": [
    "df16 = pd.DataFrame(columns = ['fentanyl', 'socialuse', 'V1070', 'V7234'])\n",
    "for i in range(len(df13[['fentanyl']])):\n",
    "    df16.loc[i] = [df13['fentanyl'].iloc[i],\n",
    "                   df13['socialuse'].iloc[i],\n",
    "                   df13['V1070'].iloc[i],\n",
    "                   df13['V7234'].iloc[i]\n",
    "                  ]"
   ]
  },
  {
   "cell_type": "code",
   "execution_count": 112,
   "id": "a48e5328",
   "metadata": {},
   "outputs": [
    {
     "data": {
      "text/html": [
       "<div>\n",
       "<style scoped>\n",
       "    .dataframe tbody tr th:only-of-type {\n",
       "        vertical-align: middle;\n",
       "    }\n",
       "\n",
       "    .dataframe tbody tr th {\n",
       "        vertical-align: top;\n",
       "    }\n",
       "\n",
       "    .dataframe thead th {\n",
       "        text-align: right;\n",
       "    }\n",
       "</style>\n",
       "<table border=\"1\" class=\"dataframe\">\n",
       "  <thead>\n",
       "    <tr style=\"text-align: right;\">\n",
       "      <th></th>\n",
       "      <th>fentanyl</th>\n",
       "      <th>V1070</th>\n",
       "      <th>V7234</th>\n",
       "      <th>socialuse_1</th>\n",
       "      <th>socialuse_2</th>\n",
       "    </tr>\n",
       "  </thead>\n",
       "  <tbody>\n",
       "    <tr>\n",
       "      <th>0</th>\n",
       "      <td>0</td>\n",
       "      <td>2</td>\n",
       "      <td>0</td>\n",
       "      <td>0</td>\n",
       "      <td>1</td>\n",
       "    </tr>\n",
       "    <tr>\n",
       "      <th>1</th>\n",
       "      <td>0</td>\n",
       "      <td>2</td>\n",
       "      <td>0</td>\n",
       "      <td>1</td>\n",
       "      <td>0</td>\n",
       "    </tr>\n",
       "    <tr>\n",
       "      <th>2</th>\n",
       "      <td>0</td>\n",
       "      <td>1</td>\n",
       "      <td>1</td>\n",
       "      <td>0</td>\n",
       "      <td>0</td>\n",
       "    </tr>\n",
       "    <tr>\n",
       "      <th>3</th>\n",
       "      <td>0</td>\n",
       "      <td>1</td>\n",
       "      <td>1</td>\n",
       "      <td>1</td>\n",
       "      <td>0</td>\n",
       "    </tr>\n",
       "    <tr>\n",
       "      <th>4</th>\n",
       "      <td>0</td>\n",
       "      <td>2</td>\n",
       "      <td>0</td>\n",
       "      <td>1</td>\n",
       "      <td>0</td>\n",
       "    </tr>\n",
       "    <tr>\n",
       "      <th>...</th>\n",
       "      <td>...</td>\n",
       "      <td>...</td>\n",
       "      <td>...</td>\n",
       "      <td>...</td>\n",
       "      <td>...</td>\n",
       "    </tr>\n",
       "    <tr>\n",
       "      <th>3626</th>\n",
       "      <td>0</td>\n",
       "      <td>2</td>\n",
       "      <td>0</td>\n",
       "      <td>1</td>\n",
       "      <td>0</td>\n",
       "    </tr>\n",
       "    <tr>\n",
       "      <th>3627</th>\n",
       "      <td>0</td>\n",
       "      <td>1</td>\n",
       "      <td>0</td>\n",
       "      <td>1</td>\n",
       "      <td>0</td>\n",
       "    </tr>\n",
       "    <tr>\n",
       "      <th>3628</th>\n",
       "      <td>0</td>\n",
       "      <td>3</td>\n",
       "      <td>0</td>\n",
       "      <td>1</td>\n",
       "      <td>0</td>\n",
       "    </tr>\n",
       "    <tr>\n",
       "      <th>3629</th>\n",
       "      <td>0</td>\n",
       "      <td>1</td>\n",
       "      <td>1</td>\n",
       "      <td>1</td>\n",
       "      <td>0</td>\n",
       "    </tr>\n",
       "    <tr>\n",
       "      <th>3630</th>\n",
       "      <td>0</td>\n",
       "      <td>1</td>\n",
       "      <td>0</td>\n",
       "      <td>0</td>\n",
       "      <td>0</td>\n",
       "    </tr>\n",
       "  </tbody>\n",
       "</table>\n",
       "<p>3631 rows × 5 columns</p>\n",
       "</div>"
      ],
      "text/plain": [
       "      fentanyl  V1070  V7234  socialuse_1  socialuse_2\n",
       "0            0      2      0            0            1\n",
       "1            0      2      0            1            0\n",
       "2            0      1      1            0            0\n",
       "3            0      1      1            1            0\n",
       "4            0      2      0            1            0\n",
       "...        ...    ...    ...          ...          ...\n",
       "3626         0      2      0            1            0\n",
       "3627         0      1      0            1            0\n",
       "3628         0      3      0            1            0\n",
       "3629         0      1      1            1            0\n",
       "3630         0      1      0            0            0\n",
       "\n",
       "[3631 rows x 5 columns]"
      ]
     },
     "execution_count": 112,
     "metadata": {},
     "output_type": "execute_result"
    }
   ],
   "source": [
    "df_temp= pd.get_dummies(df16, columns = ['socialuse'], drop_first = True)\n",
    "df_temp"
   ]
  },
  {
   "cell_type": "code",
   "execution_count": 113,
   "id": "a00a84a2",
   "metadata": {},
   "outputs": [
    {
     "name": "stdout",
     "output_type": "stream",
     "text": [
      "Optimization terminated successfully.\n",
      "         Current function value: 0.025153\n",
      "         Iterations 10\n",
      "                           Logit Regression Results                           \n",
      "==============================================================================\n",
      "Dep. Variable:               fentanyl   No. Observations:                 3631\n",
      "Model:                          Logit   Df Residuals:                     3628\n",
      "Method:                           MLE   Df Model:                            2\n",
      "Date:                Mon, 29 Jan 2024   Pseudo R-squ.:                0.004977\n",
      "Time:                        16:04:43   Log-Likelihood:                -91.331\n",
      "converged:                       True   LL-Null:                       -91.788\n",
      "Covariance Type:            nonrobust   LLR p-value:                    0.6333\n",
      "===============================================================================\n",
      "                  coef    std err          z      P>|z|      [0.025      0.975]\n",
      "-------------------------------------------------------------------------------\n",
      "Intercept      -5.8916      1.001     -5.884      0.000      -7.854      -3.929\n",
      "socialuse_1     0.2004      1.062      0.189      0.850      -1.881       2.282\n",
      "socialuse_2     0.7155      1.097      0.652      0.514      -1.435       2.866\n",
      "===============================================================================\n"
     ]
    }
   ],
   "source": [
    "model_df = sm.Logit.from_formula(\"fentanyl ~ socialuse_1 + socialuse_2\", df_temp)\n",
    "result_df = model_df.fit()\n",
    "print(result_df.summary())"
   ]
  },
  {
   "cell_type": "code",
   "execution_count": 114,
   "id": "24b9cb26",
   "metadata": {},
   "outputs": [
    {
     "name": "stdout",
     "output_type": "stream",
     "text": [
      "             Odd Ratio       Z-Value      2.5%      97.5%\n",
      "Intercept     0.002762  4.016233e-09  0.000388   0.019664\n",
      "socialuse_1   1.221941  8.503199e-01  0.152383   9.798569\n",
      "socialuse_2   2.045198  5.143384e-01  0.238111  17.566729\n"
     ]
    }
   ],
   "source": [
    "model_odds = pd.DataFrame(np.exp(result_df.params), columns = [\"Odd Ratio\"])\n",
    "model_odds['Z-Value'] = result_df.pvalues\n",
    "model_odds[[\"2.5%\", \"97.5%\"]]=np.exp(result_df.conf_int())\n",
    "\n",
    "print(model_odds)"
   ]
  },
  {
   "cell_type": "code",
   "execution_count": 115,
   "id": "fd187da0",
   "metadata": {},
   "outputs": [
    {
     "data": {
      "text/html": [
       "<div>\n",
       "<style scoped>\n",
       "    .dataframe tbody tr th:only-of-type {\n",
       "        vertical-align: middle;\n",
       "    }\n",
       "\n",
       "    .dataframe tbody tr th {\n",
       "        vertical-align: top;\n",
       "    }\n",
       "\n",
       "    .dataframe thead th {\n",
       "        text-align: right;\n",
       "    }\n",
       "</style>\n",
       "<table border=\"1\" class=\"dataframe\">\n",
       "  <thead>\n",
       "    <tr style=\"text-align: right;\">\n",
       "      <th></th>\n",
       "      <th>fentanyl</th>\n",
       "      <th>socialuse_1</th>\n",
       "      <th>socialuse_2</th>\n",
       "      <th>V1070_2</th>\n",
       "      <th>V1070_3</th>\n",
       "      <th>V7234_1</th>\n",
       "    </tr>\n",
       "  </thead>\n",
       "  <tbody>\n",
       "    <tr>\n",
       "      <th>0</th>\n",
       "      <td>0</td>\n",
       "      <td>0</td>\n",
       "      <td>1</td>\n",
       "      <td>1</td>\n",
       "      <td>0</td>\n",
       "      <td>0</td>\n",
       "    </tr>\n",
       "    <tr>\n",
       "      <th>1</th>\n",
       "      <td>0</td>\n",
       "      <td>1</td>\n",
       "      <td>0</td>\n",
       "      <td>1</td>\n",
       "      <td>0</td>\n",
       "      <td>0</td>\n",
       "    </tr>\n",
       "    <tr>\n",
       "      <th>2</th>\n",
       "      <td>0</td>\n",
       "      <td>0</td>\n",
       "      <td>0</td>\n",
       "      <td>0</td>\n",
       "      <td>0</td>\n",
       "      <td>1</td>\n",
       "    </tr>\n",
       "    <tr>\n",
       "      <th>3</th>\n",
       "      <td>0</td>\n",
       "      <td>1</td>\n",
       "      <td>0</td>\n",
       "      <td>0</td>\n",
       "      <td>0</td>\n",
       "      <td>1</td>\n",
       "    </tr>\n",
       "    <tr>\n",
       "      <th>4</th>\n",
       "      <td>0</td>\n",
       "      <td>1</td>\n",
       "      <td>0</td>\n",
       "      <td>1</td>\n",
       "      <td>0</td>\n",
       "      <td>0</td>\n",
       "    </tr>\n",
       "    <tr>\n",
       "      <th>...</th>\n",
       "      <td>...</td>\n",
       "      <td>...</td>\n",
       "      <td>...</td>\n",
       "      <td>...</td>\n",
       "      <td>...</td>\n",
       "      <td>...</td>\n",
       "    </tr>\n",
       "    <tr>\n",
       "      <th>3626</th>\n",
       "      <td>0</td>\n",
       "      <td>1</td>\n",
       "      <td>0</td>\n",
       "      <td>1</td>\n",
       "      <td>0</td>\n",
       "      <td>0</td>\n",
       "    </tr>\n",
       "    <tr>\n",
       "      <th>3627</th>\n",
       "      <td>0</td>\n",
       "      <td>1</td>\n",
       "      <td>0</td>\n",
       "      <td>0</td>\n",
       "      <td>0</td>\n",
       "      <td>0</td>\n",
       "    </tr>\n",
       "    <tr>\n",
       "      <th>3628</th>\n",
       "      <td>0</td>\n",
       "      <td>1</td>\n",
       "      <td>0</td>\n",
       "      <td>0</td>\n",
       "      <td>1</td>\n",
       "      <td>0</td>\n",
       "    </tr>\n",
       "    <tr>\n",
       "      <th>3629</th>\n",
       "      <td>0</td>\n",
       "      <td>1</td>\n",
       "      <td>0</td>\n",
       "      <td>0</td>\n",
       "      <td>0</td>\n",
       "      <td>1</td>\n",
       "    </tr>\n",
       "    <tr>\n",
       "      <th>3630</th>\n",
       "      <td>0</td>\n",
       "      <td>0</td>\n",
       "      <td>0</td>\n",
       "      <td>0</td>\n",
       "      <td>0</td>\n",
       "      <td>0</td>\n",
       "    </tr>\n",
       "  </tbody>\n",
       "</table>\n",
       "<p>3631 rows × 6 columns</p>\n",
       "</div>"
      ],
      "text/plain": [
       "      fentanyl  socialuse_1  socialuse_2  V1070_2  V1070_3  V7234_1\n",
       "0            0            0            1        1        0        0\n",
       "1            0            1            0        1        0        0\n",
       "2            0            0            0        0        0        1\n",
       "3            0            1            0        0        0        1\n",
       "4            0            1            0        1        0        0\n",
       "...        ...          ...          ...      ...      ...      ...\n",
       "3626         0            1            0        1        0        0\n",
       "3627         0            1            0        0        0        0\n",
       "3628         0            1            0        0        1        0\n",
       "3629         0            1            0        0        0        1\n",
       "3630         0            0            0        0        0        0\n",
       "\n",
       "[3631 rows x 6 columns]"
      ]
     },
     "execution_count": 115,
     "metadata": {},
     "output_type": "execute_result"
    }
   ],
   "source": [
    "df_temp_1 = pd.get_dummies(df16, columns = ['socialuse', 'V1070', 'V7234'], drop_first = True)\n",
    "df_temp_1"
   ]
  },
  {
   "cell_type": "code",
   "execution_count": 116,
   "id": "e077f4a8",
   "metadata": {},
   "outputs": [
    {
     "name": "stdout",
     "output_type": "stream",
     "text": [
      "Optimization terminated successfully.\n",
      "         Current function value: 0.023363\n",
      "         Iterations 10\n",
      "                           Logit Regression Results                           \n",
      "==============================================================================\n",
      "Dep. Variable:               fentanyl   No. Observations:                 3631\n",
      "Model:                          Logit   Df Residuals:                     3625\n",
      "Method:                           MLE   Df Model:                            5\n",
      "Date:                Mon, 29 Jan 2024   Pseudo R-squ.:                 0.07578\n",
      "Time:                        16:04:52   Log-Likelihood:                -84.832\n",
      "converged:                       True   LL-Null:                       -91.788\n",
      "Covariance Type:            nonrobust   LLR p-value:                   0.01618\n",
      "===============================================================================\n",
      "                  coef    std err          z      P>|z|      [0.025      0.975]\n",
      "-------------------------------------------------------------------------------\n",
      "Intercept      -5.5298      1.139     -4.855      0.000      -7.762      -3.298\n",
      "socialuse_1     0.1181      1.065      0.111      0.912      -1.970       2.206\n",
      "socialuse_2     0.2862      1.109      0.258      0.796      -1.887       2.460\n",
      "V1070_2        -1.0771      0.612     -1.761      0.078      -2.276       0.122\n",
      "V1070_3        -0.6932      0.833     -0.833      0.405      -2.325       0.939\n",
      "V7234_1         1.5161      0.568      2.669      0.008       0.403       2.629\n",
      "===============================================================================\n"
     ]
    }
   ],
   "source": [
    "model_df_1 = sm.Logit.from_formula(\"fentanyl ~ socialuse_1 + socialuse_2 + V1070_2 + V1070_3 + V7234_1\", df_temp_1)\n",
    "result_df_1 = model_df_1.fit()\n",
    "print(result_df_1.summary())"
   ]
  },
  {
   "cell_type": "code",
   "execution_count": 117,
   "id": "7ddd4ac7",
   "metadata": {},
   "outputs": [
    {
     "name": "stdout",
     "output_type": "stream",
     "text": [
      "             Odd Ratio   Z-Value      2.5%      97.5%\n",
      "Intercept     0.003967  0.000001  0.000426   0.036975\n",
      "socialuse_1   1.125386  0.911696  0.139517   9.077726\n",
      "socialuse_2   1.331422  0.796325  0.151464  11.703666\n",
      "V1070_2       0.340583  0.078258  0.102698   1.129498\n",
      "V1070_3       0.499961  0.405072  0.097773   2.556535\n",
      "V7234_1       4.554212  0.007610  1.495877  13.865348\n"
     ]
    }
   ],
   "source": [
    "model_odds_1 = pd.DataFrame(np.exp(result_df_1.params), columns = [\"Odd Ratio\"])\n",
    "model_odds_1['Z-Value'] = result_df_1.pvalues\n",
    "model_odds_1[[\"2.5%\", \"97.5%\"]]=np.exp(result_df_1.conf_int())\n",
    "\n",
    "print(model_odds_1)"
   ]
  },
  {
   "cell_type": "code",
   "execution_count": 118,
   "id": "2289bf14",
   "metadata": {},
   "outputs": [],
   "source": [
    "df17 = pd.DataFrame(columns = ['fentanyl', 'socialnews', 'V1070', 'V7234'])\n",
    "for i in range(len(df13[['fentanyl']])):\n",
    "    df17.loc[i] = [df13['fentanyl'].iloc[i],\n",
    "                   df13['socialnews'].iloc[i],\n",
    "                   df13['V1070'].iloc[i],\n",
    "                   df13['V7234'].iloc[i]\n",
    "                  ]"
   ]
  },
  {
   "cell_type": "code",
   "execution_count": 119,
   "id": "ebc964b8",
   "metadata": {},
   "outputs": [
    {
     "data": {
      "text/html": [
       "<div>\n",
       "<style scoped>\n",
       "    .dataframe tbody tr th:only-of-type {\n",
       "        vertical-align: middle;\n",
       "    }\n",
       "\n",
       "    .dataframe tbody tr th {\n",
       "        vertical-align: top;\n",
       "    }\n",
       "\n",
       "    .dataframe thead th {\n",
       "        text-align: right;\n",
       "    }\n",
       "</style>\n",
       "<table border=\"1\" class=\"dataframe\">\n",
       "  <thead>\n",
       "    <tr style=\"text-align: right;\">\n",
       "      <th></th>\n",
       "      <th>fentanyl</th>\n",
       "      <th>V1070</th>\n",
       "      <th>V7234</th>\n",
       "      <th>socialnews_1</th>\n",
       "      <th>socialnews_2</th>\n",
       "    </tr>\n",
       "  </thead>\n",
       "  <tbody>\n",
       "    <tr>\n",
       "      <th>0</th>\n",
       "      <td>0</td>\n",
       "      <td>2</td>\n",
       "      <td>0</td>\n",
       "      <td>0</td>\n",
       "      <td>1</td>\n",
       "    </tr>\n",
       "    <tr>\n",
       "      <th>1</th>\n",
       "      <td>0</td>\n",
       "      <td>2</td>\n",
       "      <td>0</td>\n",
       "      <td>0</td>\n",
       "      <td>1</td>\n",
       "    </tr>\n",
       "    <tr>\n",
       "      <th>2</th>\n",
       "      <td>0</td>\n",
       "      <td>1</td>\n",
       "      <td>1</td>\n",
       "      <td>0</td>\n",
       "      <td>1</td>\n",
       "    </tr>\n",
       "    <tr>\n",
       "      <th>3</th>\n",
       "      <td>0</td>\n",
       "      <td>1</td>\n",
       "      <td>1</td>\n",
       "      <td>0</td>\n",
       "      <td>1</td>\n",
       "    </tr>\n",
       "    <tr>\n",
       "      <th>4</th>\n",
       "      <td>0</td>\n",
       "      <td>2</td>\n",
       "      <td>0</td>\n",
       "      <td>0</td>\n",
       "      <td>1</td>\n",
       "    </tr>\n",
       "    <tr>\n",
       "      <th>...</th>\n",
       "      <td>...</td>\n",
       "      <td>...</td>\n",
       "      <td>...</td>\n",
       "      <td>...</td>\n",
       "      <td>...</td>\n",
       "    </tr>\n",
       "    <tr>\n",
       "      <th>3626</th>\n",
       "      <td>0</td>\n",
       "      <td>2</td>\n",
       "      <td>0</td>\n",
       "      <td>0</td>\n",
       "      <td>1</td>\n",
       "    </tr>\n",
       "    <tr>\n",
       "      <th>3627</th>\n",
       "      <td>0</td>\n",
       "      <td>1</td>\n",
       "      <td>0</td>\n",
       "      <td>0</td>\n",
       "      <td>1</td>\n",
       "    </tr>\n",
       "    <tr>\n",
       "      <th>3628</th>\n",
       "      <td>0</td>\n",
       "      <td>3</td>\n",
       "      <td>0</td>\n",
       "      <td>0</td>\n",
       "      <td>1</td>\n",
       "    </tr>\n",
       "    <tr>\n",
       "      <th>3629</th>\n",
       "      <td>0</td>\n",
       "      <td>1</td>\n",
       "      <td>1</td>\n",
       "      <td>0</td>\n",
       "      <td>1</td>\n",
       "    </tr>\n",
       "    <tr>\n",
       "      <th>3630</th>\n",
       "      <td>0</td>\n",
       "      <td>1</td>\n",
       "      <td>0</td>\n",
       "      <td>0</td>\n",
       "      <td>1</td>\n",
       "    </tr>\n",
       "  </tbody>\n",
       "</table>\n",
       "<p>3631 rows × 5 columns</p>\n",
       "</div>"
      ],
      "text/plain": [
       "      fentanyl  V1070  V7234  socialnews_1  socialnews_2\n",
       "0            0      2      0             0             1\n",
       "1            0      2      0             0             1\n",
       "2            0      1      1             0             1\n",
       "3            0      1      1             0             1\n",
       "4            0      2      0             0             1\n",
       "...        ...    ...    ...           ...           ...\n",
       "3626         0      2      0             0             1\n",
       "3627         0      1      0             0             1\n",
       "3628         0      3      0             0             1\n",
       "3629         0      1      1             0             1\n",
       "3630         0      1      0             0             1\n",
       "\n",
       "[3631 rows x 5 columns]"
      ]
     },
     "execution_count": 119,
     "metadata": {},
     "output_type": "execute_result"
    }
   ],
   "source": [
    "df_temp1 = pd.get_dummies(df17, columns = ['socialnews'], drop_first = True)\n",
    "df_temp1"
   ]
  },
  {
   "cell_type": "code",
   "execution_count": 120,
   "id": "1ac5194c",
   "metadata": {},
   "outputs": [
    {
     "name": "stdout",
     "output_type": "stream",
     "text": [
      "Optimization terminated successfully.\n",
      "         Current function value: 0.025233\n",
      "         Iterations 10\n",
      "                           Logit Regression Results                           \n",
      "==============================================================================\n",
      "Dep. Variable:               fentanyl   No. Observations:                 3631\n",
      "Model:                          Logit   Df Residuals:                     3628\n",
      "Method:                           MLE   Df Model:                            2\n",
      "Date:                Mon, 29 Jan 2024   Pseudo R-squ.:                0.001827\n",
      "Time:                        16:05:01   Log-Likelihood:                -91.620\n",
      "converged:                       True   LL-Null:                       -91.788\n",
      "Covariance Type:            nonrobust   LLR p-value:                    0.8456\n",
      "================================================================================\n",
      "                   coef    std err          z      P>|z|      [0.025      0.975]\n",
      "--------------------------------------------------------------------------------\n",
      "Intercept       -5.4116      1.002     -5.400      0.000      -7.376      -3.447\n",
      "socialnews_1    -0.6404      1.417     -0.452      0.651      -3.417       2.136\n",
      "socialnews_2    -0.0991      1.043     -0.095      0.924      -2.144       1.945\n",
      "================================================================================\n"
     ]
    }
   ],
   "source": [
    "model_df1 = sm.Logit.from_formula(\"fentanyl ~ socialnews_1 + socialnews_2\", df_temp1)\n",
    "result_df1 = model_df1.fit()\n",
    "print(result_df1.summary())"
   ]
  },
  {
   "cell_type": "code",
   "execution_count": 121,
   "id": "cd12a9a5",
   "metadata": {},
   "outputs": [
    {
     "name": "stdout",
     "output_type": "stream",
     "text": [
      "              Odd Ratio       Z-Value      2.5%     97.5%\n",
      "Intercept      0.004464  6.678712e-08  0.000626  0.031831\n",
      "socialnews_1   0.527059  6.512028e-01  0.032812  8.466223\n",
      "socialnews_2   0.905660  9.243202e-01  0.117232  6.996568\n"
     ]
    }
   ],
   "source": [
    "model_odds1 = pd.DataFrame(np.exp(result_df1.params), columns = [\"Odd Ratio\"])\n",
    "model_odds1['Z-Value'] = result_df1.pvalues\n",
    "model_odds1[[\"2.5%\", \"97.5%\"]]=np.exp(result_df1.conf_int())\n",
    "\n",
    "print(model_odds1)"
   ]
  },
  {
   "cell_type": "code",
   "execution_count": 122,
   "id": "5b88a3e1",
   "metadata": {},
   "outputs": [
    {
     "data": {
      "text/html": [
       "<div>\n",
       "<style scoped>\n",
       "    .dataframe tbody tr th:only-of-type {\n",
       "        vertical-align: middle;\n",
       "    }\n",
       "\n",
       "    .dataframe tbody tr th {\n",
       "        vertical-align: top;\n",
       "    }\n",
       "\n",
       "    .dataframe thead th {\n",
       "        text-align: right;\n",
       "    }\n",
       "</style>\n",
       "<table border=\"1\" class=\"dataframe\">\n",
       "  <thead>\n",
       "    <tr style=\"text-align: right;\">\n",
       "      <th></th>\n",
       "      <th>fentanyl</th>\n",
       "      <th>socialnews_1</th>\n",
       "      <th>socialnews_2</th>\n",
       "      <th>V1070_2</th>\n",
       "      <th>V1070_3</th>\n",
       "      <th>V7234_1</th>\n",
       "    </tr>\n",
       "  </thead>\n",
       "  <tbody>\n",
       "    <tr>\n",
       "      <th>0</th>\n",
       "      <td>0</td>\n",
       "      <td>0</td>\n",
       "      <td>1</td>\n",
       "      <td>1</td>\n",
       "      <td>0</td>\n",
       "      <td>0</td>\n",
       "    </tr>\n",
       "    <tr>\n",
       "      <th>1</th>\n",
       "      <td>0</td>\n",
       "      <td>0</td>\n",
       "      <td>1</td>\n",
       "      <td>1</td>\n",
       "      <td>0</td>\n",
       "      <td>0</td>\n",
       "    </tr>\n",
       "    <tr>\n",
       "      <th>2</th>\n",
       "      <td>0</td>\n",
       "      <td>0</td>\n",
       "      <td>1</td>\n",
       "      <td>0</td>\n",
       "      <td>0</td>\n",
       "      <td>1</td>\n",
       "    </tr>\n",
       "    <tr>\n",
       "      <th>3</th>\n",
       "      <td>0</td>\n",
       "      <td>0</td>\n",
       "      <td>1</td>\n",
       "      <td>0</td>\n",
       "      <td>0</td>\n",
       "      <td>1</td>\n",
       "    </tr>\n",
       "    <tr>\n",
       "      <th>4</th>\n",
       "      <td>0</td>\n",
       "      <td>0</td>\n",
       "      <td>1</td>\n",
       "      <td>1</td>\n",
       "      <td>0</td>\n",
       "      <td>0</td>\n",
       "    </tr>\n",
       "    <tr>\n",
       "      <th>...</th>\n",
       "      <td>...</td>\n",
       "      <td>...</td>\n",
       "      <td>...</td>\n",
       "      <td>...</td>\n",
       "      <td>...</td>\n",
       "      <td>...</td>\n",
       "    </tr>\n",
       "    <tr>\n",
       "      <th>3626</th>\n",
       "      <td>0</td>\n",
       "      <td>0</td>\n",
       "      <td>1</td>\n",
       "      <td>1</td>\n",
       "      <td>0</td>\n",
       "      <td>0</td>\n",
       "    </tr>\n",
       "    <tr>\n",
       "      <th>3627</th>\n",
       "      <td>0</td>\n",
       "      <td>0</td>\n",
       "      <td>1</td>\n",
       "      <td>0</td>\n",
       "      <td>0</td>\n",
       "      <td>0</td>\n",
       "    </tr>\n",
       "    <tr>\n",
       "      <th>3628</th>\n",
       "      <td>0</td>\n",
       "      <td>0</td>\n",
       "      <td>1</td>\n",
       "      <td>0</td>\n",
       "      <td>1</td>\n",
       "      <td>0</td>\n",
       "    </tr>\n",
       "    <tr>\n",
       "      <th>3629</th>\n",
       "      <td>0</td>\n",
       "      <td>0</td>\n",
       "      <td>1</td>\n",
       "      <td>0</td>\n",
       "      <td>0</td>\n",
       "      <td>1</td>\n",
       "    </tr>\n",
       "    <tr>\n",
       "      <th>3630</th>\n",
       "      <td>0</td>\n",
       "      <td>0</td>\n",
       "      <td>1</td>\n",
       "      <td>0</td>\n",
       "      <td>0</td>\n",
       "      <td>0</td>\n",
       "    </tr>\n",
       "  </tbody>\n",
       "</table>\n",
       "<p>3631 rows × 6 columns</p>\n",
       "</div>"
      ],
      "text/plain": [
       "      fentanyl  socialnews_1  socialnews_2  V1070_2  V1070_3  V7234_1\n",
       "0            0             0             1        1        0        0\n",
       "1            0             0             1        1        0        0\n",
       "2            0             0             1        0        0        1\n",
       "3            0             0             1        0        0        1\n",
       "4            0             0             1        1        0        0\n",
       "...        ...           ...           ...      ...      ...      ...\n",
       "3626         0             0             1        1        0        0\n",
       "3627         0             0             1        0        0        0\n",
       "3628         0             0             1        0        1        0\n",
       "3629         0             0             1        0        0        1\n",
       "3630         0             0             1        0        0        0\n",
       "\n",
       "[3631 rows x 6 columns]"
      ]
     },
     "execution_count": 122,
     "metadata": {},
     "output_type": "execute_result"
    }
   ],
   "source": [
    "df_temp1_1 = pd.get_dummies(df17, columns = ['socialnews', 'V1070', 'V7234'], drop_first = True)\n",
    "df_temp1_1"
   ]
  },
  {
   "cell_type": "code",
   "execution_count": 123,
   "id": "9ec90f43",
   "metadata": {},
   "outputs": [
    {
     "name": "stdout",
     "output_type": "stream",
     "text": [
      "Optimization terminated successfully.\n",
      "         Current function value: 0.023333\n",
      "         Iterations: 26\n",
      "         Function evaluations: 131\n",
      "         Gradient evaluations: 131\n",
      "                           Logit Regression Results                           \n",
      "==============================================================================\n",
      "Dep. Variable:               fentanyl   No. Observations:                 3631\n",
      "Model:                          Logit   Df Residuals:                     3625\n",
      "Method:                           MLE   Df Model:                            5\n",
      "Date:                Mon, 29 Jan 2024   Pseudo R-squ.:                 0.07697\n",
      "Time:                        16:05:07   Log-Likelihood:                -84.723\n",
      "converged:                       True   LL-Null:                       -91.788\n",
      "Covariance Type:            nonrobust   LLR p-value:                   0.01481\n",
      "================================================================================\n",
      "                   coef    std err          z      P>|z|      [0.025      0.975]\n",
      "--------------------------------------------------------------------------------\n",
      "Intercept       -4.9400      1.144     -4.316      0.000      -7.183      -2.697\n",
      "socialnews_1    -0.7922      1.411     -0.561      0.575      -3.558       1.974\n",
      "socialnews_2    -0.4062      1.050     -0.387      0.699      -2.465       1.653\n",
      "V1070_2         -1.1108      0.608     -1.827      0.068      -2.303       0.081\n",
      "V1070_3         -0.7148      0.830     -0.861      0.389      -2.342       0.913\n",
      "V7234_1          1.5345      0.567      2.707      0.007       0.423       2.646\n",
      "================================================================================\n"
     ]
    }
   ],
   "source": [
    "model_df1_1 = sm.Logit.from_formula(\"fentanyl ~ socialnews_1 + socialnews_2 + V1070_2 + V1070_3 + V7234_1\", df_temp1_1)\n",
    "result_df1_1 = model_df1_1.fit(method='cg', maxiter=50)\n",
    "print(result_df1_1.summary())"
   ]
  },
  {
   "cell_type": "code",
   "execution_count": 124,
   "id": "ba95bdff",
   "metadata": {},
   "outputs": [
    {
     "name": "stdout",
     "output_type": "stream",
     "text": [
      "              Odd Ratio   Z-Value      2.5%      97.5%\n",
      "Intercept      0.007155  0.000016  0.000759   0.067415\n",
      "socialnews_1   0.452858  0.574571  0.028491   7.198055\n",
      "socialnews_2   0.666191  0.698994  0.085010   5.220689\n",
      "V1070_2        0.329280  0.067704  0.100003   1.084221\n",
      "V1070_3        0.489266  0.389331  0.096093   2.491136\n",
      "V7234_1        4.639112  0.006798  1.527000  14.093879\n"
     ]
    }
   ],
   "source": [
    "model_odds1_1 = pd.DataFrame(np.exp(result_df1_1.params), columns = [\"Odd Ratio\"])\n",
    "model_odds1_1['Z-Value'] = result_df1_1.pvalues\n",
    "model_odds1_1[[\"2.5%\", \"97.5%\"]]=np.exp(result_df1_1.conf_int())\n",
    "\n",
    "print(model_odds1_1)"
   ]
  }
 ],
 "metadata": {
  "kernelspec": {
   "display_name": "Python 3 (ipykernel)",
   "language": "python",
   "name": "python3"
  },
  "language_info": {
   "codemirror_mode": {
    "name": "ipython",
    "version": 3
   },
   "file_extension": ".py",
   "mimetype": "text/x-python",
   "name": "python",
   "nbconvert_exporter": "python",
   "pygments_lexer": "ipython3",
   "version": "3.10.11"
  }
 },
 "nbformat": 4,
 "nbformat_minor": 5
}
